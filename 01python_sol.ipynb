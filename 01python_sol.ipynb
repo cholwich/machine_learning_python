{
  "nbformat": 4,
  "nbformat_minor": 0,
  "metadata": {
    "colab": {
      "provenance": []
    },
    "kernelspec": {
      "name": "python3",
      "display_name": "Python 3"
    },
    "language_info": {
      "name": "python"
    }
  },
  "cells": [
    {
      "cell_type": "markdown",
      "source": [
        "# Python Revisited"
      ],
      "metadata": {
        "id": "6RYq0MZdRQL1"
      }
    },
    {
      "cell_type": "code",
      "execution_count": null,
      "metadata": {
        "colab": {
          "base_uri": "https://localhost:8080/"
        },
        "id": "aLf9dqlbRLJj",
        "outputId": "d0fc3266-f9bd-4452-b2fb-621468da403a"
      },
      "outputs": [
        {
          "output_type": "stream",
          "name": "stdout",
          "text": [
            "Sum of squares = 87\n"
          ]
        }
      ],
      "source": [
        "numbers = [2, 3, 5, 7]\n",
        "sum_squares = 0\n",
        "for num in numbers:\n",
        "  sum_squares += num**2\n",
        "print(\"Sum of squares =\", sum_squares)"
      ]
    },
    {
      "cell_type": "code",
      "source": [
        "pi = 3.14159\n",
        "print(pi)"
      ],
      "metadata": {
        "colab": {
          "base_uri": "https://localhost:8080/"
        },
        "id": "0SgrfrMXRX5p",
        "outputId": "986a11e9-3151-4635-bea2-66de81ead30f"
      },
      "execution_count": null,
      "outputs": [
        {
          "output_type": "stream",
          "name": "stdout",
          "text": [
            "3.14159\n"
          ]
        }
      ]
    },
    {
      "cell_type": "markdown",
      "source": [
        "**Example 1** Write an expression for a formula $\\dfrac{a}{bc}$"
      ],
      "metadata": {
        "id": "ezhbSiKJRsNu"
      }
    },
    {
      "cell_type": "code",
      "source": [],
      "metadata": {
        "id": "TQVBNP47Ro2o"
      },
      "execution_count": null,
      "outputs": []
    },
    {
      "cell_type": "markdown",
      "source": [
        "**Example 2** Evaluate the following expresssions\n"
      ],
      "metadata": {
        "id": "lWamaD6JR38Q"
      }
    },
    {
      "cell_type": "code",
      "source": [],
      "metadata": {
        "id": "K0Me_Z-rR8cJ"
      },
      "execution_count": null,
      "outputs": []
    },
    {
      "cell_type": "code",
      "source": [
        "name = \"Cholwich\"\n",
        "age = 20\n",
        "print(f\"Hello, {name}. You are {age} years old.\")"
      ],
      "metadata": {
        "colab": {
          "base_uri": "https://localhost:8080/"
        },
        "id": "WX2duNYDRYqk",
        "outputId": "ca61f20b-f924-4207-9805-5c6fda3937b6"
      },
      "execution_count": null,
      "outputs": [
        {
          "output_type": "stream",
          "name": "stdout",
          "text": [
            "Hello, Cholwich. You are 20 years old.\n"
          ]
        }
      ]
    },
    {
      "cell_type": "code",
      "source": [
        "pi = 3.14159\n",
        "print(f\"pi = {pi:.4f}\")"
      ],
      "metadata": {
        "colab": {
          "base_uri": "https://localhost:8080/"
        },
        "id": "qxvtVSPhRcD_",
        "outputId": "7dca235b-ed5f-4cd6-cd09-decb582f553b"
      },
      "execution_count": null,
      "outputs": [
        {
          "output_type": "stream",
          "name": "stdout",
          "text": [
            "pi = 3.1416\n"
          ]
        }
      ]
    },
    {
      "cell_type": "markdown",
      "source": [
        "**Example 3** Write a program to solve a quadratic equation $2x^2 + 7x + 5 = 0$\n",
        "using the quadratic formula\n",
        "\n",
        "$$x = \\frac{-b\\pm\\sqrt{b^2 - 4ac}}{2a}$$\n",
        "\n",
        "Note that you can use `math.sqrt` function to calculate the square root.\n",
        "\n",
        "Then, revise your program to solve an equation $2x^2 + 4x + 5 = 0$.\n",
        "\n"
      ],
      "metadata": {
        "id": "WH7P8t4OR9Ox"
      }
    },
    {
      "cell_type": "code",
      "source": [
        "import math as m\n",
        "\n",
        "a = 2\n",
        "b = 4\n",
        "c = 5\n",
        "\n",
        "if (b**2 - 4*a*c) >= 0:\n",
        "  x1 = (-b + m.sqrt(b**2 - (4*a*c)))/(2*a)\n",
        "  x2 = (-b - m.sqrt(b**2 - 4*a*c))/(2*a)\n",
        "  print(f\"Solution = {x1:.4f}, {x2:.4f}\")\n",
        "else:\n",
        "  print(\"ไม่มีคำตอบที่เป็นจำนวนจริง\")\n"
      ],
      "metadata": {
        "id": "Y-_bEdXVSRWa",
        "outputId": "631c242a-bba9-46c1-d080-069bf5f942a4",
        "colab": {
          "base_uri": "https://localhost:8080/"
        }
      },
      "execution_count": null,
      "outputs": [
        {
          "output_type": "stream",
          "name": "stdout",
          "text": [
            "ไม่มีคำตอบที่เป็นจำนวนจริง\n"
          ]
        }
      ]
    },
    {
      "cell_type": "code",
      "source": [
        "def f(x):\n",
        "    return 2*x**2 + 5*x + 7\n",
        "\n",
        "print(f\"f(5) = {f(5):.2f}\")"
      ],
      "metadata": {
        "id": "XVzGhly_SUY8"
      },
      "execution_count": null,
      "outputs": []
    },
    {
      "cell_type": "code",
      "source": [
        "found = False\n",
        "print(not found)\n",
        "score = 50\n",
        "print((score >= 0) and (score <= 100))\n",
        "print(0 <= score <= 100)\n",
        "print((score != 50) or (score != 40))"
      ],
      "metadata": {
        "id": "bjiFlpWkSXwL"
      },
      "execution_count": null,
      "outputs": []
    },
    {
      "cell_type": "markdown",
      "source": [
        "**Example 4** Write a program to find real-number solutions of a quadratic equation $ax^2 + bx + c = 0$\n",
        "using the quadratic formula\n",
        "\n",
        "$$x = \\frac{-b\\pm\\sqrt{b^2 - 4ac}}{2a}$$\n",
        "\n",
        "The program displays \"No real-number solutions\" when both solutions are complex\n",
        "numbers.\n"
      ],
      "metadata": {
        "id": "Jmo-I9K6SeBr"
      }
    },
    {
      "cell_type": "code",
      "source": [],
      "metadata": {
        "id": "X3FlMlgLSZ-g"
      },
      "execution_count": null,
      "outputs": []
    },
    {
      "cell_type": "code",
      "source": [
        "import math as m\n",
        "\n",
        "a, b, c = 2, 5, 1\n",
        "\n",
        "if b**2-4*a*c < 0:\n",
        "    print(\"There are no real-number solutions.\")\n",
        "elif a == 0:\n",
        "    print(\"This is not a quadratic equation.\")\n",
        "else:\n",
        "    s = m.sqrt(b**2 - 4*a*c)\n",
        "    x1, x2 = (-b + s)/(2*a), (-b - s)/(2*a)\n",
        "    print(\"Solution = %.2f %.2f\" % (x1, x2))"
      ],
      "metadata": {
        "colab": {
          "base_uri": "https://localhost:8080/"
        },
        "id": "JzdqNBF6SsTm",
        "outputId": "c069ff97-34bd-4605-bff3-6aec27f0f8d0"
      },
      "execution_count": null,
      "outputs": [
        {
          "output_type": "stream",
          "name": "stdout",
          "text": [
            "Solution = -0.22 -2.28\n"
          ]
        }
      ]
    },
    {
      "cell_type": "markdown",
      "source": [
        "**Example 5** Write a code that computes the value of $\\displaystyle\\sum_{n=1}^{N} n^i$\n"
      ],
      "metadata": {
        "id": "0qqXDOhZTFsa"
      }
    },
    {
      "cell_type": "code",
      "source": [
        "N = 500\n",
        "i = 7\n",
        "# 1**i + 2**i + ... + N**i\n",
        "s = 0\n",
        "for n in range(1, N+1, 1):\n",
        "  s = s + n**i\n",
        "print(f\"Sum = {s}\")\n"
      ],
      "metadata": {
        "id": "21lDIQ5rStZC",
        "outputId": "7cfb3c82-7bf0-44f7-a113-5466fcb8b48b",
        "colab": {
          "base_uri": "https://localhost:8080/"
        }
      },
      "execution_count": null,
      "outputs": [
        {
          "output_type": "stream",
          "name": "stdout",
          "text": [
            "Sum = 492196614565104187500\n"
          ]
        }
      ]
    },
    {
      "cell_type": "markdown",
      "source": [
        "**Example 6** Newton's Method"
      ],
      "metadata": {
        "id": "1H76bZr3TIaP"
      }
    },
    {
      "cell_type": "code",
      "source": [
        "def f(x):\n",
        "  return x**3 - x**2 - 1\n",
        "\n",
        "def df(x):\n",
        "  return 3*x**2 - 2*x\n",
        "\n",
        "epsilon = 1e-10        # 1e-10 == 1*(10**(-10))\n",
        "N = 20\n",
        "\n",
        "# range(N) == range(0, N, 1) == [0,1,2,...,N-1]\n",
        "x_n = 10\n",
        "for i in range(N):\n",
        "  if df(x_n) == 0:\n",
        "    print(\"No solution\")\n",
        "    break\n",
        "  elif abs(f(x_n)) < epsilon:\n",
        "    print(f\"Solution = {x_n:.4f}\")\n",
        "    break\n",
        "  x_n = x_n - f(x_n)/df(x_n)\n",
        "  print(f\"{x_n:.4f}\")     "
      ],
      "metadata": {
        "id": "5RwCSvdBTK_0",
        "outputId": "c52b4661-568b-4f4a-f73c-211e3799f0e1",
        "colab": {
          "base_uri": "https://localhost:8080/"
        }
      },
      "execution_count": null,
      "outputs": [
        {
          "output_type": "stream",
          "name": "stdout",
          "text": [
            "6.7893\n",
            "4.6574\n",
            "3.2526\n",
            "2.3478\n",
            "1.8048\n",
            "1.5417\n",
            "1.4706\n",
            "1.4656\n",
            "1.4656\n",
            "1.4656\n",
            "Solution = 1.4656\n"
          ]
        }
      ]
    },
    {
      "cell_type": "code",
      "source": [
        "sum = 0\n",
        "i = 0\n",
        "while i <= 100:\n",
        "    sum += i\n",
        "    i += 1\n",
        "print(f\"Sum = {sum}\")"
      ],
      "metadata": {
        "id": "wgQFHBylTRvC"
      },
      "execution_count": null,
      "outputs": []
    },
    {
      "cell_type": "markdown",
      "source": [
        "**Example 7** isPrime"
      ],
      "metadata": {
        "id": "UsVc1yNsTURD"
      }
    },
    {
      "cell_type": "code",
      "source": [
        "def isprime(p):\n",
        "  x = 2\n",
        "  while x < p:\n",
        "    if p % x == 0:\n",
        "      return False\n",
        "    x = x + 1\n",
        "  return True\n",
        "\n",
        "def isprime_for(p):\n",
        "  for x in range(2,p):\n",
        "    if p % x == 0:\n",
        "      return False\n",
        "  return True\n",
        "\n",
        "print(isprime(97))"
      ],
      "metadata": {
        "id": "xUE0kw59TWuk",
        "colab": {
          "base_uri": "https://localhost:8080/"
        },
        "outputId": "e694ecb2-2e5a-44fb-f45f-6805e9f40160"
      },
      "execution_count": 3,
      "outputs": [
        {
          "output_type": "stream",
          "name": "stdout",
          "text": [
            "True\n"
          ]
        }
      ]
    },
    {
      "cell_type": "code",
      "source": [
        "l = [2, 3, 5, 7, 11, 13]\n",
        "\n",
        "print(l[0], l[3], l[5])\n",
        "print(l[-1], l[-2], l[-5])\n",
        "\n",
        "d = {\"a\": 2, \"b\": 3, \"c\": 5}\n",
        "print(d[\"a\"], d[\"b\"])"
      ],
      "metadata": {
        "id": "TWzCUHIwTYT8"
      },
      "execution_count": null,
      "outputs": []
    },
    {
      "cell_type": "markdown",
      "source": [
        "**Example 8** The Sieve of Eratosthenes"
      ],
      "metadata": {
        "id": "HqofJCBmTd15"
      }
    },
    {
      "cell_type": "code",
      "source": [
        "n = 500\n",
        "# สร้าง List ความยาว n ที่ทุกค่าเป็น True\n",
        "L = [True for x in range(n+1)]\n",
        "p = 2\n",
        "while p < n**0.5:\n",
        "  for q in range(2*p, n+1, p):\n",
        "    L[q] = False\n",
        "  p = p + 1\n",
        "  while L[p] == False:\n",
        "    p = p + 1\n",
        "\n",
        "M = []\n",
        "for i in range(2, n+1):\n",
        "  if L[i]:\n",
        "    # print(i, end=\" \")\n",
        "    M.append(i)\n",
        "\n",
        "print(M)"
      ],
      "metadata": {
        "id": "XQLIEXn2TbcZ",
        "colab": {
          "base_uri": "https://localhost:8080/"
        },
        "outputId": "d6d209f8-bca6-44f6-b0f4-de3b7eded722"
      },
      "execution_count": 9,
      "outputs": [
        {
          "output_type": "stream",
          "name": "stdout",
          "text": [
            "[2, 3, 5, 7, 11, 13, 17, 19, 23, 29, 31, 37, 41, 43, 47, 53, 59, 61, 67, 71, 73, 79, 83, 89, 97, 101, 103, 107, 109, 113, 127, 131, 137, 139, 149, 151, 157, 163, 167, 173, 179, 181, 191, 193, 197, 199, 211, 223, 227, 229, 233, 239, 241, 251, 257, 263, 269, 271, 277, 281, 283, 293, 307, 311, 313, 317, 331, 337, 347, 349, 353, 359, 367, 373, 379, 383, 389, 397, 401, 409, 419, 421, 431, 433, 439, 443, 449, 457, 461, 463, 467, 479, 487, 491, 499]\n",
            "CPU times: user 403 µs, sys: 0 ns, total: 403 µs\n",
            "Wall time: 377 µs\n"
          ]
        }
      ]
    }
  ]
}