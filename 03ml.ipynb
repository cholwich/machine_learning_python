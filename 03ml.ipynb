{
  "nbformat": 4,
  "nbformat_minor": 0,
  "metadata": {
    "colab": {
      "provenance": []
    },
    "kernelspec": {
      "name": "python3",
      "display_name": "Python 3"
    },
    "language_info": {
      "name": "python"
    }
  },
  "cells": [
    {
      "cell_type": "code",
      "execution_count": 1,
      "metadata": {
        "id": "RH8wXST9Y8Dq"
      },
      "outputs": [],
      "source": [
        "import numpy as np\n",
        "import matplotlib.pyplot as plt"
      ]
    },
    {
      "cell_type": "code",
      "source": [
        "D_train = np.loadtxt('sample_data/mnist_train_small.csv', delimiter=',')\n",
        "X_train = D_train[:, 1:]\n",
        "y_train = D_train[:, 0].astype(int)"
      ],
      "metadata": {
        "id": "Pn8rx_KHZv3O"
      },
      "execution_count": 2,
      "outputs": []
    },
    {
      "cell_type": "code",
      "source": [
        "D_test = np.loadtxt('sample_data/mnist_test.csv', delimiter=',')\n",
        "X_test = D_test[:, 1:]\n",
        "y_test = D_test[:, 0].astype(int)"
      ],
      "metadata": {
        "id": "GG0M7JPSbZXa"
      },
      "execution_count": 3,
      "outputs": []
    },
    {
      "cell_type": "markdown",
      "source": [
        "## k-Nearest Neighbor Classification"
      ],
      "metadata": {
        "id": "tRIJ8qfFeJZR"
      }
    },
    {
      "cell_type": "code",
      "source": [
        "from sklearn.neighbors import KNeighborsClassifier\n",
        "\n",
        "model = KNeighborsClassifier(n_neighbors=7, metric='euclidean')\n",
        "model.fit(X_train, y_train)\n",
        "y_predicted = model.predict(X_train)"
      ],
      "metadata": {
        "id": "bglbcXkAaGia"
      },
      "execution_count": 4,
      "outputs": []
    },
    {
      "cell_type": "code",
      "source": [
        "from sklearn.metrics import accuracy_score\n",
        "\n",
        "acc_train = accuracy_score(y_train, y_predicted)\n",
        "print(f\"{acc_train:.4f}\")"
      ],
      "metadata": {
        "colab": {
          "base_uri": "https://localhost:8080/"
        },
        "id": "wasgEcTpb1NO",
        "outputId": "93209817-f41b-4c07-bee4-82ee8431d4c0"
      },
      "execution_count": 5,
      "outputs": [
        {
          "output_type": "stream",
          "name": "stdout",
          "text": [
            "0.9703\n"
          ]
        }
      ]
    },
    {
      "cell_type": "code",
      "source": [
        "y_predicted = model.predict(X_test)\n",
        "acc_test = accuracy_score(y_test, y_predicted)\n",
        "print(f\"{acc_test:.4f}\")"
      ],
      "metadata": {
        "colab": {
          "base_uri": "https://localhost:8080/"
        },
        "id": "rDs1qW31cCc-",
        "outputId": "a213de48-e417-43f8-87b2-ff6dcfd70a47"
      },
      "execution_count": 6,
      "outputs": [
        {
          "output_type": "stream",
          "name": "stdout",
          "text": [
            "0.9572\n"
          ]
        }
      ]
    },
    {
      "cell_type": "markdown",
      "source": [
        "## Tuning hyperparameters"
      ],
      "metadata": {
        "id": "w1wwX_oNeThi"
      }
    },
    {
      "cell_type": "code",
      "source": [
        "from sklearn.model_selection import GridSearchCV\n",
        "\n",
        "parameters = {'n_neighbors':[3, 5, 7], 'metric':['manhattan', 'euclidean']}\n",
        "knn = KNeighborsClassifier()\n",
        "gcv = GridSearchCV(knn, parameters, cv=5, verbose=2)\n",
        "gcv.fit(X_train, y_train)\n"
      ],
      "metadata": {
        "id": "iWXSym6GeWl7"
      },
      "execution_count": null,
      "outputs": []
    },
    {
      "cell_type": "code",
      "source": [
        "from sklearn.experimental import enable_halving_search_cv  # noqa\n",
        "from sklearn.model_selection import HalvingGridSearchCV\n",
        "\n",
        "parameters = {'n_neighbors':[3, 5, 7], 'metric':['manhattan', 'euclidean']}\n",
        "knn = KNeighborsClassifier()\n",
        "g = HalvingGridSearchCV(knn, parameters, cv=5, factor=2, \n",
        "                        aggressive_elimination=False, verbose=2)\n",
        "g.fit(X_train, y_train)\n"
      ],
      "metadata": {
        "colab": {
          "base_uri": "https://localhost:8080/",
          "height": 1000
        },
        "id": "PK8Z3Eeoibx8",
        "outputId": "93e070b1-001c-4435-8cbd-7137b7c73a69"
      },
      "execution_count": 12,
      "outputs": [
        {
          "output_type": "stream",
          "name": "stdout",
          "text": [
            "n_iterations: 3\n",
            "n_required_iterations: 3\n",
            "n_possible_iterations: 3\n",
            "min_resources_: 5000\n",
            "max_resources_: 20000\n",
            "aggressive_elimination: False\n",
            "factor: 2\n",
            "----------\n",
            "iter: 0\n",
            "n_candidates: 6\n",
            "n_resources: 5000\n",
            "Fitting 5 folds for each of 6 candidates, totalling 30 fits\n",
            "[CV] END ....................metric=manhattan, n_neighbors=3; total time=   3.8s\n",
            "[CV] END ....................metric=manhattan, n_neighbors=3; total time=   3.8s\n",
            "[CV] END ....................metric=manhattan, n_neighbors=3; total time=   4.0s\n",
            "[CV] END ....................metric=manhattan, n_neighbors=3; total time=   3.8s\n",
            "[CV] END ....................metric=manhattan, n_neighbors=3; total time=   5.3s\n",
            "[CV] END ....................metric=manhattan, n_neighbors=5; total time=   3.7s\n",
            "[CV] END ....................metric=manhattan, n_neighbors=5; total time=   4.2s\n",
            "[CV] END ....................metric=manhattan, n_neighbors=5; total time=   3.7s\n",
            "[CV] END ....................metric=manhattan, n_neighbors=5; total time=   3.7s\n",
            "[CV] END ....................metric=manhattan, n_neighbors=5; total time=   5.1s\n",
            "[CV] END ....................metric=manhattan, n_neighbors=7; total time=   3.7s\n",
            "[CV] END ....................metric=manhattan, n_neighbors=7; total time=   5.3s\n",
            "[CV] END ....................metric=manhattan, n_neighbors=7; total time=   3.8s\n",
            "[CV] END ....................metric=manhattan, n_neighbors=7; total time=   4.7s\n",
            "[CV] END ....................metric=manhattan, n_neighbors=7; total time=   3.8s\n",
            "[CV] END ....................metric=euclidean, n_neighbors=3; total time=   0.3s\n",
            "[CV] END ....................metric=euclidean, n_neighbors=3; total time=   0.3s\n",
            "[CV] END ....................metric=euclidean, n_neighbors=3; total time=   0.3s\n",
            "[CV] END ....................metric=euclidean, n_neighbors=3; total time=   0.3s\n",
            "[CV] END ....................metric=euclidean, n_neighbors=3; total time=   0.3s\n",
            "[CV] END ....................metric=euclidean, n_neighbors=5; total time=   0.3s\n",
            "[CV] END ....................metric=euclidean, n_neighbors=5; total time=   0.3s\n",
            "[CV] END ....................metric=euclidean, n_neighbors=5; total time=   0.3s\n",
            "[CV] END ....................metric=euclidean, n_neighbors=5; total time=   0.7s\n",
            "[CV] END ....................metric=euclidean, n_neighbors=5; total time=   0.4s\n",
            "[CV] END ....................metric=euclidean, n_neighbors=7; total time=   0.3s\n",
            "[CV] END ....................metric=euclidean, n_neighbors=7; total time=   0.3s\n",
            "[CV] END ....................metric=euclidean, n_neighbors=7; total time=   0.3s\n",
            "[CV] END ....................metric=euclidean, n_neighbors=7; total time=   0.3s\n",
            "[CV] END ....................metric=euclidean, n_neighbors=7; total time=   0.3s\n",
            "----------\n",
            "iter: 1\n",
            "n_candidates: 3\n",
            "n_resources: 10000\n",
            "Fitting 5 folds for each of 3 candidates, totalling 15 fits\n",
            "[CV] END ....................metric=euclidean, n_neighbors=5; total time=   1.0s\n",
            "[CV] END ....................metric=euclidean, n_neighbors=5; total time=   1.0s\n",
            "[CV] END ....................metric=euclidean, n_neighbors=5; total time=   1.0s\n",
            "[CV] END ....................metric=euclidean, n_neighbors=5; total time=   1.1s\n",
            "[CV] END ....................metric=euclidean, n_neighbors=5; total time=   1.0s\n",
            "[CV] END ....................metric=euclidean, n_neighbors=7; total time=   1.0s\n",
            "[CV] END ....................metric=euclidean, n_neighbors=7; total time=   1.6s\n",
            "[CV] END ....................metric=euclidean, n_neighbors=7; total time=   1.0s\n",
            "[CV] END ....................metric=euclidean, n_neighbors=7; total time=   1.0s\n",
            "[CV] END ....................metric=euclidean, n_neighbors=7; total time=   1.0s\n",
            "[CV] END ....................metric=euclidean, n_neighbors=3; total time=   1.0s\n",
            "[CV] END ....................metric=euclidean, n_neighbors=3; total time=   2.0s\n",
            "[CV] END ....................metric=euclidean, n_neighbors=3; total time=   1.0s\n",
            "[CV] END ....................metric=euclidean, n_neighbors=3; total time=   1.0s\n",
            "[CV] END ....................metric=euclidean, n_neighbors=3; total time=   1.0s\n",
            "----------\n",
            "iter: 2\n",
            "n_candidates: 2\n",
            "n_resources: 20000\n",
            "Fitting 5 folds for each of 2 candidates, totalling 10 fits\n",
            "[CV] END ....................metric=euclidean, n_neighbors=7; total time=   3.7s\n",
            "[CV] END ....................metric=euclidean, n_neighbors=7; total time=   4.4s\n",
            "[CV] END ....................metric=euclidean, n_neighbors=7; total time=   3.6s\n",
            "[CV] END ....................metric=euclidean, n_neighbors=7; total time=   4.7s\n",
            "[CV] END ....................metric=euclidean, n_neighbors=7; total time=   3.6s\n",
            "[CV] END ....................metric=euclidean, n_neighbors=3; total time=   4.8s\n",
            "[CV] END ....................metric=euclidean, n_neighbors=3; total time=   3.8s\n",
            "[CV] END ....................metric=euclidean, n_neighbors=3; total time=   4.6s\n",
            "[CV] END ....................metric=euclidean, n_neighbors=3; total time=   3.6s\n",
            "[CV] END ....................metric=euclidean, n_neighbors=3; total time=   5.0s\n"
          ]
        },
        {
          "output_type": "execute_result",
          "data": {
            "text/plain": [
              "HalvingGridSearchCV(estimator=KNeighborsClassifier(), factor=2,\n",
              "                    param_grid={'metric': ['manhattan', 'euclidean'],\n",
              "                                'n_neighbors': [3, 5, 7]},\n",
              "                    verbose=2)"
            ],
            "text/html": [
              "<style>#sk-container-id-2 {color: black;background-color: white;}#sk-container-id-2 pre{padding: 0;}#sk-container-id-2 div.sk-toggleable {background-color: white;}#sk-container-id-2 label.sk-toggleable__label {cursor: pointer;display: block;width: 100%;margin-bottom: 0;padding: 0.3em;box-sizing: border-box;text-align: center;}#sk-container-id-2 label.sk-toggleable__label-arrow:before {content: \"▸\";float: left;margin-right: 0.25em;color: #696969;}#sk-container-id-2 label.sk-toggleable__label-arrow:hover:before {color: black;}#sk-container-id-2 div.sk-estimator:hover label.sk-toggleable__label-arrow:before {color: black;}#sk-container-id-2 div.sk-toggleable__content {max-height: 0;max-width: 0;overflow: hidden;text-align: left;background-color: #f0f8ff;}#sk-container-id-2 div.sk-toggleable__content pre {margin: 0.2em;color: black;border-radius: 0.25em;background-color: #f0f8ff;}#sk-container-id-2 input.sk-toggleable__control:checked~div.sk-toggleable__content {max-height: 200px;max-width: 100%;overflow: auto;}#sk-container-id-2 input.sk-toggleable__control:checked~label.sk-toggleable__label-arrow:before {content: \"▾\";}#sk-container-id-2 div.sk-estimator input.sk-toggleable__control:checked~label.sk-toggleable__label {background-color: #d4ebff;}#sk-container-id-2 div.sk-label input.sk-toggleable__control:checked~label.sk-toggleable__label {background-color: #d4ebff;}#sk-container-id-2 input.sk-hidden--visually {border: 0;clip: rect(1px 1px 1px 1px);clip: rect(1px, 1px, 1px, 1px);height: 1px;margin: -1px;overflow: hidden;padding: 0;position: absolute;width: 1px;}#sk-container-id-2 div.sk-estimator {font-family: monospace;background-color: #f0f8ff;border: 1px dotted black;border-radius: 0.25em;box-sizing: border-box;margin-bottom: 0.5em;}#sk-container-id-2 div.sk-estimator:hover {background-color: #d4ebff;}#sk-container-id-2 div.sk-parallel-item::after {content: \"\";width: 100%;border-bottom: 1px solid gray;flex-grow: 1;}#sk-container-id-2 div.sk-label:hover label.sk-toggleable__label {background-color: #d4ebff;}#sk-container-id-2 div.sk-serial::before {content: \"\";position: absolute;border-left: 1px solid gray;box-sizing: border-box;top: 0;bottom: 0;left: 50%;z-index: 0;}#sk-container-id-2 div.sk-serial {display: flex;flex-direction: column;align-items: center;background-color: white;padding-right: 0.2em;padding-left: 0.2em;position: relative;}#sk-container-id-2 div.sk-item {position: relative;z-index: 1;}#sk-container-id-2 div.sk-parallel {display: flex;align-items: stretch;justify-content: center;background-color: white;position: relative;}#sk-container-id-2 div.sk-item::before, #sk-container-id-2 div.sk-parallel-item::before {content: \"\";position: absolute;border-left: 1px solid gray;box-sizing: border-box;top: 0;bottom: 0;left: 50%;z-index: -1;}#sk-container-id-2 div.sk-parallel-item {display: flex;flex-direction: column;z-index: 1;position: relative;background-color: white;}#sk-container-id-2 div.sk-parallel-item:first-child::after {align-self: flex-end;width: 50%;}#sk-container-id-2 div.sk-parallel-item:last-child::after {align-self: flex-start;width: 50%;}#sk-container-id-2 div.sk-parallel-item:only-child::after {width: 0;}#sk-container-id-2 div.sk-dashed-wrapped {border: 1px dashed gray;margin: 0 0.4em 0.5em 0.4em;box-sizing: border-box;padding-bottom: 0.4em;background-color: white;}#sk-container-id-2 div.sk-label label {font-family: monospace;font-weight: bold;display: inline-block;line-height: 1.2em;}#sk-container-id-2 div.sk-label-container {text-align: center;}#sk-container-id-2 div.sk-container {/* jupyter's `normalize.less` sets `[hidden] { display: none; }` but bootstrap.min.css set `[hidden] { display: none !important; }` so we also need the `!important` here to be able to override the default hidden behavior on the sphinx rendered scikit-learn.org. See: https://github.com/scikit-learn/scikit-learn/issues/21755 */display: inline-block !important;position: relative;}#sk-container-id-2 div.sk-text-repr-fallback {display: none;}</style><div id=\"sk-container-id-2\" class=\"sk-top-container\"><div class=\"sk-text-repr-fallback\"><pre>HalvingGridSearchCV(estimator=KNeighborsClassifier(), factor=2,\n",
              "                    param_grid={&#x27;metric&#x27;: [&#x27;manhattan&#x27;, &#x27;euclidean&#x27;],\n",
              "                                &#x27;n_neighbors&#x27;: [3, 5, 7]},\n",
              "                    verbose=2)</pre><b>In a Jupyter environment, please rerun this cell to show the HTML representation or trust the notebook. <br />On GitHub, the HTML representation is unable to render, please try loading this page with nbviewer.org.</b></div><div class=\"sk-container\" hidden><div class=\"sk-item sk-dashed-wrapped\"><div class=\"sk-label-container\"><div class=\"sk-label sk-toggleable\"><input class=\"sk-toggleable__control sk-hidden--visually\" id=\"sk-estimator-id-4\" type=\"checkbox\" ><label for=\"sk-estimator-id-4\" class=\"sk-toggleable__label sk-toggleable__label-arrow\">HalvingGridSearchCV</label><div class=\"sk-toggleable__content\"><pre>HalvingGridSearchCV(estimator=KNeighborsClassifier(), factor=2,\n",
              "                    param_grid={&#x27;metric&#x27;: [&#x27;manhattan&#x27;, &#x27;euclidean&#x27;],\n",
              "                                &#x27;n_neighbors&#x27;: [3, 5, 7]},\n",
              "                    verbose=2)</pre></div></div></div><div class=\"sk-parallel\"><div class=\"sk-parallel-item\"><div class=\"sk-item\"><div class=\"sk-label-container\"><div class=\"sk-label sk-toggleable\"><input class=\"sk-toggleable__control sk-hidden--visually\" id=\"sk-estimator-id-5\" type=\"checkbox\" ><label for=\"sk-estimator-id-5\" class=\"sk-toggleable__label sk-toggleable__label-arrow\">estimator: KNeighborsClassifier</label><div class=\"sk-toggleable__content\"><pre>KNeighborsClassifier()</pre></div></div></div><div class=\"sk-serial\"><div class=\"sk-item\"><div class=\"sk-estimator sk-toggleable\"><input class=\"sk-toggleable__control sk-hidden--visually\" id=\"sk-estimator-id-6\" type=\"checkbox\" ><label for=\"sk-estimator-id-6\" class=\"sk-toggleable__label sk-toggleable__label-arrow\">KNeighborsClassifier</label><div class=\"sk-toggleable__content\"><pre>KNeighborsClassifier()</pre></div></div></div></div></div></div></div></div></div></div>"
            ]
          },
          "metadata": {},
          "execution_count": 12
        }
      ]
    },
    {
      "cell_type": "code",
      "source": [
        "g.best_estimator_"
      ],
      "metadata": {
        "colab": {
          "base_uri": "https://localhost:8080/",
          "height": 74
        },
        "id": "11BEC6IZrBOG",
        "outputId": "6a2e5b43-d75a-434b-c16f-ff8a3470f36a"
      },
      "execution_count": 13,
      "outputs": [
        {
          "output_type": "execute_result",
          "data": {
            "text/plain": [
              "KNeighborsClassifier(metric='euclidean', n_neighbors=3)"
            ],
            "text/html": [
              "<style>#sk-container-id-3 {color: black;background-color: white;}#sk-container-id-3 pre{padding: 0;}#sk-container-id-3 div.sk-toggleable {background-color: white;}#sk-container-id-3 label.sk-toggleable__label {cursor: pointer;display: block;width: 100%;margin-bottom: 0;padding: 0.3em;box-sizing: border-box;text-align: center;}#sk-container-id-3 label.sk-toggleable__label-arrow:before {content: \"▸\";float: left;margin-right: 0.25em;color: #696969;}#sk-container-id-3 label.sk-toggleable__label-arrow:hover:before {color: black;}#sk-container-id-3 div.sk-estimator:hover label.sk-toggleable__label-arrow:before {color: black;}#sk-container-id-3 div.sk-toggleable__content {max-height: 0;max-width: 0;overflow: hidden;text-align: left;background-color: #f0f8ff;}#sk-container-id-3 div.sk-toggleable__content pre {margin: 0.2em;color: black;border-radius: 0.25em;background-color: #f0f8ff;}#sk-container-id-3 input.sk-toggleable__control:checked~div.sk-toggleable__content {max-height: 200px;max-width: 100%;overflow: auto;}#sk-container-id-3 input.sk-toggleable__control:checked~label.sk-toggleable__label-arrow:before {content: \"▾\";}#sk-container-id-3 div.sk-estimator input.sk-toggleable__control:checked~label.sk-toggleable__label {background-color: #d4ebff;}#sk-container-id-3 div.sk-label input.sk-toggleable__control:checked~label.sk-toggleable__label {background-color: #d4ebff;}#sk-container-id-3 input.sk-hidden--visually {border: 0;clip: rect(1px 1px 1px 1px);clip: rect(1px, 1px, 1px, 1px);height: 1px;margin: -1px;overflow: hidden;padding: 0;position: absolute;width: 1px;}#sk-container-id-3 div.sk-estimator {font-family: monospace;background-color: #f0f8ff;border: 1px dotted black;border-radius: 0.25em;box-sizing: border-box;margin-bottom: 0.5em;}#sk-container-id-3 div.sk-estimator:hover {background-color: #d4ebff;}#sk-container-id-3 div.sk-parallel-item::after {content: \"\";width: 100%;border-bottom: 1px solid gray;flex-grow: 1;}#sk-container-id-3 div.sk-label:hover label.sk-toggleable__label {background-color: #d4ebff;}#sk-container-id-3 div.sk-serial::before {content: \"\";position: absolute;border-left: 1px solid gray;box-sizing: border-box;top: 0;bottom: 0;left: 50%;z-index: 0;}#sk-container-id-3 div.sk-serial {display: flex;flex-direction: column;align-items: center;background-color: white;padding-right: 0.2em;padding-left: 0.2em;position: relative;}#sk-container-id-3 div.sk-item {position: relative;z-index: 1;}#sk-container-id-3 div.sk-parallel {display: flex;align-items: stretch;justify-content: center;background-color: white;position: relative;}#sk-container-id-3 div.sk-item::before, #sk-container-id-3 div.sk-parallel-item::before {content: \"\";position: absolute;border-left: 1px solid gray;box-sizing: border-box;top: 0;bottom: 0;left: 50%;z-index: -1;}#sk-container-id-3 div.sk-parallel-item {display: flex;flex-direction: column;z-index: 1;position: relative;background-color: white;}#sk-container-id-3 div.sk-parallel-item:first-child::after {align-self: flex-end;width: 50%;}#sk-container-id-3 div.sk-parallel-item:last-child::after {align-self: flex-start;width: 50%;}#sk-container-id-3 div.sk-parallel-item:only-child::after {width: 0;}#sk-container-id-3 div.sk-dashed-wrapped {border: 1px dashed gray;margin: 0 0.4em 0.5em 0.4em;box-sizing: border-box;padding-bottom: 0.4em;background-color: white;}#sk-container-id-3 div.sk-label label {font-family: monospace;font-weight: bold;display: inline-block;line-height: 1.2em;}#sk-container-id-3 div.sk-label-container {text-align: center;}#sk-container-id-3 div.sk-container {/* jupyter's `normalize.less` sets `[hidden] { display: none; }` but bootstrap.min.css set `[hidden] { display: none !important; }` so we also need the `!important` here to be able to override the default hidden behavior on the sphinx rendered scikit-learn.org. See: https://github.com/scikit-learn/scikit-learn/issues/21755 */display: inline-block !important;position: relative;}#sk-container-id-3 div.sk-text-repr-fallback {display: none;}</style><div id=\"sk-container-id-3\" class=\"sk-top-container\"><div class=\"sk-text-repr-fallback\"><pre>KNeighborsClassifier(metric=&#x27;euclidean&#x27;, n_neighbors=3)</pre><b>In a Jupyter environment, please rerun this cell to show the HTML representation or trust the notebook. <br />On GitHub, the HTML representation is unable to render, please try loading this page with nbviewer.org.</b></div><div class=\"sk-container\" hidden><div class=\"sk-item\"><div class=\"sk-estimator sk-toggleable\"><input class=\"sk-toggleable__control sk-hidden--visually\" id=\"sk-estimator-id-7\" type=\"checkbox\" checked><label for=\"sk-estimator-id-7\" class=\"sk-toggleable__label sk-toggleable__label-arrow\">KNeighborsClassifier</label><div class=\"sk-toggleable__content\"><pre>KNeighborsClassifier(metric=&#x27;euclidean&#x27;, n_neighbors=3)</pre></div></div></div></div></div>"
            ]
          },
          "metadata": {},
          "execution_count": 13
        }
      ]
    }
  ]
}