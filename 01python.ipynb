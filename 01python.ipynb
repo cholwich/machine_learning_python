{
  "nbformat": 4,
  "nbformat_minor": 0,
  "metadata": {
    "colab": {
      "provenance": []
    },
    "kernelspec": {
      "name": "python3",
      "display_name": "Python 3"
    },
    "language_info": {
      "name": "python"
    }
  },
  "cells": [
    {
      "cell_type": "markdown",
      "source": [
        "# Python Revisited"
      ],
      "metadata": {
        "id": "6RYq0MZdRQL1"
      }
    },
    {
      "cell_type": "code",
      "execution_count": null,
      "metadata": {
        "colab": {
          "base_uri": "https://localhost:8080/"
        },
        "id": "aLf9dqlbRLJj",
        "outputId": "d0fc3266-f9bd-4452-b2fb-621468da403a"
      },
      "outputs": [
        {
          "output_type": "stream",
          "name": "stdout",
          "text": [
            "Sum of squares = 87\n"
          ]
        }
      ],
      "source": [
        "numbers = [2, 3, 5, 7]\n",
        "sum_squares = 0\n",
        "for num in numbers:\n",
        "  sum_squares += num**2\n",
        "print(\"Sum of squares =\", sum_squares)"
      ]
    },
    {
      "cell_type": "code",
      "source": [
        "pi = 3.14159\n",
        "print(pi)"
      ],
      "metadata": {
        "colab": {
          "base_uri": "https://localhost:8080/"
        },
        "id": "0SgrfrMXRX5p",
        "outputId": "986a11e9-3151-4635-bea2-66de81ead30f"
      },
      "execution_count": null,
      "outputs": [
        {
          "output_type": "stream",
          "name": "stdout",
          "text": [
            "3.14159\n"
          ]
        }
      ]
    },
    {
      "cell_type": "markdown",
      "source": [
        "**Example 1** Write an expression for a formula $\\dfrac{a}{bc}$"
      ],
      "metadata": {
        "id": "ezhbSiKJRsNu"
      }
    },
    {
      "cell_type": "code",
      "source": [],
      "metadata": {
        "id": "TQVBNP47Ro2o"
      },
      "execution_count": null,
      "outputs": []
    },
    {
      "cell_type": "markdown",
      "source": [
        "**Example 2** Evaluate the following expresssions\n"
      ],
      "metadata": {
        "id": "lWamaD6JR38Q"
      }
    },
    {
      "cell_type": "code",
      "source": [],
      "metadata": {
        "id": "K0Me_Z-rR8cJ"
      },
      "execution_count": null,
      "outputs": []
    },
    {
      "cell_type": "code",
      "source": [
        "name = \"Cholwich\"\n",
        "age = 20\n",
        "print(f\"Hello, {name}. You are {age} years old.\")"
      ],
      "metadata": {
        "colab": {
          "base_uri": "https://localhost:8080/"
        },
        "id": "WX2duNYDRYqk",
        "outputId": "ca61f20b-f924-4207-9805-5c6fda3937b6"
      },
      "execution_count": null,
      "outputs": [
        {
          "output_type": "stream",
          "name": "stdout",
          "text": [
            "Hello, Cholwich. You are 20 years old.\n"
          ]
        }
      ]
    },
    {
      "cell_type": "code",
      "source": [
        "pi = 3.14159\n",
        "print(f\"pi = {pi:.4f}\")"
      ],
      "metadata": {
        "colab": {
          "base_uri": "https://localhost:8080/"
        },
        "id": "qxvtVSPhRcD_",
        "outputId": "7dca235b-ed5f-4cd6-cd09-decb582f553b"
      },
      "execution_count": null,
      "outputs": [
        {
          "output_type": "stream",
          "name": "stdout",
          "text": [
            "pi = 3.1416\n"
          ]
        }
      ]
    },
    {
      "cell_type": "markdown",
      "source": [
        "**Example 3** Write a program to solve a quadratic equation $2x^2 + 7x + 5 = 0$\n",
        "using the quadratic formula\n",
        "\n",
        "$$x = \\frac{-b\\pm\\sqrt{b^2 - 4ac}}{2a}$$\n",
        "\n",
        "Note that you can use `math.sqrt` function to calculate the square root.\n",
        "\n",
        "Then, revise your program to solve an equation $2x^2 + 4x + 5 = 0$.\n",
        "\n"
      ],
      "metadata": {
        "id": "WH7P8t4OR9Ox"
      }
    },
    {
      "cell_type": "code",
      "source": [],
      "metadata": {
        "id": "Y-_bEdXVSRWa"
      },
      "execution_count": null,
      "outputs": []
    },
    {
      "cell_type": "code",
      "source": [
        "def f(x):\n",
        "    return 2*x**2 + 5*x + 7\n",
        "\n",
        "print(f\"f(5) = {f(5):.2f}\")"
      ],
      "metadata": {
        "id": "XVzGhly_SUY8"
      },
      "execution_count": null,
      "outputs": []
    },
    {
      "cell_type": "code",
      "source": [
        "found = False\n",
        "print(not found)\n",
        "score = 50\n",
        "print((score >= 0) and (score <= 100))\n",
        "print(0 <= score <= 100)\n",
        "print((score != 50) or (score != 40))"
      ],
      "metadata": {
        "id": "bjiFlpWkSXwL"
      },
      "execution_count": null,
      "outputs": []
    },
    {
      "cell_type": "markdown",
      "source": [
        "**Example 4** Write a program to find real-number solutions of a quadratic equation $ax^2 + bx + c = 0$\n",
        "using the quadratic formula\n",
        "\n",
        "$$x = \\frac{-b\\pm\\sqrt{b^2 - 4ac}}{2a}$$\n",
        "\n",
        "The program displays \"No real-number solutions\" when both solutions are complex\n",
        "numbers.\n"
      ],
      "metadata": {
        "id": "Jmo-I9K6SeBr"
      }
    },
    {
      "cell_type": "code",
      "source": [],
      "metadata": {
        "id": "X3FlMlgLSZ-g"
      },
      "execution_count": null,
      "outputs": []
    },
    {
      "cell_type": "code",
      "source": [
        "import math as m\n",
        "\n",
        "a, b, c = 2, 5, 1\n",
        "\n",
        "if b**2-4*a*c < 0:\n",
        "    print(\"There are no real-number solutions.\")\n",
        "elif a == 0:\n",
        "    print(\"This is not a quadratic equation.\")\n",
        "else:\n",
        "    s = m.sqrt(b**2 - 4*a*c)\n",
        "    x1, x2 = (-b + s)/(2*a), (-b - s)/(2*a)\n",
        "    print(\"Solution = %.2f %.2f\" % (x1, x2))"
      ],
      "metadata": {
        "colab": {
          "base_uri": "https://localhost:8080/"
        },
        "id": "JzdqNBF6SsTm",
        "outputId": "c069ff97-34bd-4605-bff3-6aec27f0f8d0"
      },
      "execution_count": null,
      "outputs": [
        {
          "output_type": "stream",
          "name": "stdout",
          "text": [
            "Solution = -0.22 -2.28\n"
          ]
        }
      ]
    },
    {
      "cell_type": "markdown",
      "source": [
        "**Example 5** Write a code that computes the value of $\\displaystyle\\sum_{n=1}^{N} n^i$\n"
      ],
      "metadata": {
        "id": "0qqXDOhZTFsa"
      }
    },
    {
      "cell_type": "code",
      "source": [],
      "metadata": {
        "id": "21lDIQ5rStZC"
      },
      "execution_count": null,
      "outputs": []
    },
    {
      "cell_type": "markdown",
      "source": [
        "**Example 6** Newton's Method"
      ],
      "metadata": {
        "id": "1H76bZr3TIaP"
      }
    },
    {
      "cell_type": "code",
      "source": [
        "def f(x):\n",
        "  return x**3 - x**2 - 1\n",
        "\n",
        "def df(x):\n",
        "  return 3*x**2 - 2*x\n",
        "\n",
        "epsion = 1e-10        # 1e-10 == 1*(10**(-10))\n",
        "N = 20\n"
      ],
      "metadata": {
        "id": "5RwCSvdBTK_0"
      },
      "execution_count": null,
      "outputs": []
    },
    {
      "cell_type": "code",
      "source": [
        "sum = 0\n",
        "i = 0\n",
        "while i <= 100:\n",
        "    sum += i\n",
        "    i += 1\n",
        "print(f\"Sum = {sum}\")"
      ],
      "metadata": {
        "id": "wgQFHBylTRvC"
      },
      "execution_count": null,
      "outputs": []
    },
    {
      "cell_type": "markdown",
      "source": [
        "**Example 7** isPrime"
      ],
      "metadata": {
        "id": "UsVc1yNsTURD"
      }
    },
    {
      "cell_type": "code",
      "source": [],
      "metadata": {
        "id": "xUE0kw59TWuk"
      },
      "execution_count": null,
      "outputs": []
    },
    {
      "cell_type": "code",
      "source": [
        "l = [2, 3, 5, 7, 11, 13]\n",
        "\n",
        "print(l[0], l[3], l[5])\n",
        "print(l[-1], l[-2], l[-5])\n",
        "\n",
        "d = {\"a\": 2, \"b\": 3, \"c\": 5}\n",
        "print(d[\"a\"], d[\"b\"])"
      ],
      "metadata": {
        "id": "TWzCUHIwTYT8"
      },
      "execution_count": null,
      "outputs": []
    },
    {
      "cell_type": "markdown",
      "source": [
        "**Example 8** The Sieve of Eratosthenes"
      ],
      "metadata": {
        "id": "HqofJCBmTd15"
      }
    },
    {
      "cell_type": "code",
      "source": [],
      "metadata": {
        "id": "XQLIEXn2TbcZ"
      },
      "execution_count": null,
      "outputs": []
    }
  ]
}