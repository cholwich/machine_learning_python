{
 "cells": [
  {
   "cell_type": "code",
   "execution_count": 1,
   "id": "a49c151b-8a04-4841-b09d-89df765482e5",
   "metadata": {},
   "outputs": [],
   "source": [
    "import numpy as np\n",
    "import tensorflow as tf\n",
    "import matplotlib.pyplot as plt"
   ]
  },
  {
   "cell_type": "code",
   "execution_count": 2,
   "id": "3353b13b-9e7d-41b1-b13c-8fffca53ac03",
   "metadata": {},
   "outputs": [],
   "source": [
    "mnist = tf.keras.datasets.mnist\n",
    "(X_train, y_train), (X_test, y_test) = mnist.load_data()\n",
    "X_train = np.reshape(X_train, (-1, 28, 28, 1))\n",
    "X_test = np.reshape(X_test, (-1, 28, 28, 1))\n",
    "X_train, X_test = X_train/255, X_test/255"
   ]
  },
  {
   "cell_type": "markdown",
   "id": "55bbab1c-6cd7-4026-b4cc-6503bba85520",
   "metadata": {
    "tags": []
   },
   "source": [
    "# Denoise Autoencoder"
   ]
  },
  {
   "cell_type": "code",
   "execution_count": 3,
   "id": "5b408df0-3ca7-4e3e-9071-1a6b1f71c46a",
   "metadata": {},
   "outputs": [],
   "source": [
    "a = 0.5\n",
    "X_train_noise = X_train + a * np.random.normal(loc=0.0, scale=1.0, size=X_train.shape)\n",
    "X_test_noise  = X_test  + a * np.random.normal(loc=0.0, scale=1.0, size=X_test.shape)\n",
    "\n",
    "X_train_noise = np.clip(X_train_noise, 0.0, 1.0)\n",
    "X_test_noise  = np.clip(X_test_noise, 0.0, 1.0)"
   ]
  },
  {
   "cell_type": "code",
   "execution_count": 6,
   "id": "c3800c6f-d301-46ef-a268-5c0b49416925",
   "metadata": {},
   "outputs": [
    {
     "name": "stdout",
     "output_type": "stream",
     "text": [
      "Model: \"model_1\"\n",
      "_________________________________________________________________\n",
      " Layer (type)                Output Shape              Param #   \n",
      "=================================================================\n",
      " input_3 (InputLayer)        [(None, 28, 28, 1)]       0         \n",
      "                                                                 \n",
      " conv2d_4 (Conv2D)           (None, 28, 28, 8)         80        \n",
      "                                                                 \n",
      " leaky_re_lu_5 (LeakyReLU)   (None, 28, 28, 8)         0         \n",
      "                                                                 \n",
      " conv2d_5 (Conv2D)           (None, 14, 14, 16)        1168      \n",
      "                                                                 \n",
      " leaky_re_lu_6 (LeakyReLU)   (None, 14, 14, 16)        0         \n",
      "                                                                 \n",
      " conv2d_6 (Conv2D)           (None, 7, 7, 32)          4640      \n",
      "                                                                 \n",
      " leaky_re_lu_7 (LeakyReLU)   (None, 7, 7, 32)          0         \n",
      "                                                                 \n",
      " flatten_1 (Flatten)         (None, 1568)              0         \n",
      "                                                                 \n",
      " dense_2 (Dense)             (None, 32)                50208     \n",
      "                                                                 \n",
      " leaky_re_lu_8 (LeakyReLU)   (None, 32)                0         \n",
      "                                                                 \n",
      " dense_3 (Dense)             (None, 49)                1617      \n",
      "                                                                 \n",
      " leaky_re_lu_9 (LeakyReLU)   (None, 49)                0         \n",
      "                                                                 \n",
      " reshape (Reshape)           (None, 7, 7, 1)           0         \n",
      "                                                                 \n",
      " conv2d_7 (Conv2D)           (None, 7, 7, 32)          320       \n",
      "                                                                 \n",
      " leaky_re_lu_10 (LeakyReLU)  (None, 7, 7, 32)          0         \n",
      "                                                                 \n",
      " up_sampling2d (UpSampling2D  (None, 14, 14, 32)       0         \n",
      " )                                                               \n",
      "                                                                 \n",
      " conv2d_8 (Conv2D)           (None, 14, 14, 16)        4624      \n",
      "                                                                 \n",
      " leaky_re_lu_11 (LeakyReLU)  (None, 14, 14, 16)        0         \n",
      "                                                                 \n",
      " up_sampling2d_1 (UpSampling  (None, 28, 28, 16)       0         \n",
      " 2D)                                                             \n",
      "                                                                 \n",
      " conv2d_9 (Conv2D)           (None, 28, 28, 8)         1160      \n",
      "                                                                 \n",
      " leaky_re_lu_12 (LeakyReLU)  (None, 28, 28, 8)         0         \n",
      "                                                                 \n",
      " conv2d_10 (Conv2D)          (None, 28, 28, 1)         73        \n",
      "                                                                 \n",
      "=================================================================\n",
      "Total params: 63,890\n",
      "Trainable params: 63,890\n",
      "Non-trainable params: 0\n",
      "_________________________________________________________________\n"
     ]
    }
   ],
   "source": [
    "from tensorflow.keras.layers import Layer, Input, Dense, LeakyReLU \n",
    "from tensorflow.keras.layers import Conv2D, MaxPooling2D, Flatten\n",
    "from tensorflow.keras.layers import UpSampling2D, Reshape\n",
    "from tensorflow.keras.models import Model\n",
    "\n",
    "inputs = Input(shape=(28, 28, 1))\n",
    "encoded = Conv2D(8, kernel_size=3, strides=1, padding='same')(inputs)\n",
    "encoded = LeakyReLU(0.01)(encoded)\n",
    "encoded = Conv2D(16, kernel_size=3, strides=2, padding='same')(encoded)\n",
    "encoded = LeakyReLU(0.01)(encoded)\n",
    "encoded = Conv2D(32, kernel_size=3, strides=2, padding='same')(encoded)\n",
    "encoded = LeakyReLU(0.01)(encoded)\n",
    "encoded = Flatten()(encoded)\n",
    "encoded = Dense(32)(encoded)\n",
    "encoded = LeakyReLU(0.01)(encoded)\n",
    "\n",
    "decoded = Dense(7*7*1)(encoded)\n",
    "decoded = LeakyReLU(0.01)(decoded)\n",
    "decoded = Reshape((7, 7, 1))(decoded)\n",
    "decoded = Conv2D(32, kernel_size=3, strides=1, padding='same')(decoded)\n",
    "decoded = LeakyReLU(0.01)(decoded)\n",
    "decoded = UpSampling2D(size=(2, 2))(decoded)\n",
    "decoded = Conv2D(16, kernel_size=3, strides=1, padding='same')(decoded)\n",
    "decoded = LeakyReLU(0.01)(decoded)\n",
    "decoded = UpSampling2D(size=(2, 2))(decoded)\n",
    "decoded = Conv2D(8, kernel_size=3, strides=1, padding='same')(decoded)\n",
    "decoded = LeakyReLU(0.01)(decoded)\n",
    "decoded = Conv2D(1, kernel_size=3, padding='same', activation='sigmoid')(decoded)\n",
    "\n",
    "encoder = Model(inputs=inputs, outputs=encoded)\n",
    "autoencoder = Model(inputs=inputs, outputs=decoded)\n",
    "autoencoder.compile(optimizer='adam', loss='binary_crossentropy')\n",
    "\n",
    "autoencoder.summary()"
   ]
  },
  {
   "cell_type": "code",
   "execution_count": 7,
   "id": "1d721b6c-afc5-4a22-b57c-dbec8509aada",
   "metadata": {},
   "outputs": [
    {
     "name": "stdout",
     "output_type": "stream",
     "text": [
      "Epoch 1/100\n"
     ]
    },
    {
     "name": "stderr",
     "output_type": "stream",
     "text": [
      "2022-11-05 16:08:37.249927: W tensorflow/core/platform/profile_utils/cpu_utils.cc:128] Failed to get CPU frequency: 0 Hz\n",
      "2022-11-05 16:08:37.472046: I tensorflow/core/grappler/optimizers/custom_graph_optimizer_registry.cc:114] Plugin optimizer for device_type GPU is enabled.\n"
     ]
    },
    {
     "name": "stdout",
     "output_type": "stream",
     "text": [
      "59/59 [==============================] - 4s 56ms/step - loss: 0.4078\n",
      "Epoch 2/100\n",
      "59/59 [==============================] - 3s 53ms/step - loss: 0.2686\n",
      "Epoch 3/100\n",
      "59/59 [==============================] - 3s 54ms/step - loss: 0.2370\n",
      "Epoch 4/100\n",
      "59/59 [==============================] - 3s 54ms/step - loss: 0.1980\n",
      "Epoch 5/100\n",
      "59/59 [==============================] - 3s 54ms/step - loss: 0.1774\n",
      "Epoch 6/100\n",
      "59/59 [==============================] - 3s 54ms/step - loss: 0.1684\n",
      "Epoch 7/100\n",
      "59/59 [==============================] - 3s 54ms/step - loss: 0.1622\n",
      "Epoch 8/100\n",
      "59/59 [==============================] - 3s 53ms/step - loss: 0.1573\n",
      "Epoch 9/100\n",
      "59/59 [==============================] - 3s 53ms/step - loss: 0.1529\n",
      "Epoch 10/100\n",
      "59/59 [==============================] - 3s 54ms/step - loss: 0.1494\n",
      "Epoch 11/100\n",
      "59/59 [==============================] - 3s 54ms/step - loss: 0.1468\n",
      "Epoch 12/100\n",
      "59/59 [==============================] - 3s 54ms/step - loss: 0.1444\n",
      "Epoch 13/100\n",
      "59/59 [==============================] - 3s 53ms/step - loss: 0.1425\n",
      "Epoch 14/100\n",
      "59/59 [==============================] - 3s 54ms/step - loss: 0.1404\n",
      "Epoch 15/100\n",
      "59/59 [==============================] - 3s 54ms/step - loss: 0.1396\n",
      "Epoch 16/100\n",
      "59/59 [==============================] - 3s 54ms/step - loss: 0.1379\n",
      "Epoch 17/100\n",
      "59/59 [==============================] - 3s 54ms/step - loss: 0.1367\n",
      "Epoch 18/100\n",
      "59/59 [==============================] - 3s 54ms/step - loss: 0.1359\n",
      "Epoch 19/100\n",
      "59/59 [==============================] - 3s 54ms/step - loss: 0.1346\n",
      "Epoch 20/100\n",
      "59/59 [==============================] - 3s 54ms/step - loss: 0.1340\n",
      "Epoch 21/100\n",
      "59/59 [==============================] - 3s 54ms/step - loss: 0.1334\n",
      "Epoch 22/100\n",
      "59/59 [==============================] - 3s 54ms/step - loss: 0.1325\n",
      "Epoch 23/100\n",
      "59/59 [==============================] - 3s 55ms/step - loss: 0.1313\n",
      "Epoch 24/100\n",
      "59/59 [==============================] - 3s 54ms/step - loss: 0.1311\n",
      "Epoch 25/100\n",
      "59/59 [==============================] - 3s 54ms/step - loss: 0.1302\n",
      "Epoch 26/100\n",
      "59/59 [==============================] - 3s 54ms/step - loss: 0.1296\n",
      "Epoch 27/100\n",
      "59/59 [==============================] - 3s 54ms/step - loss: 0.1292\n",
      "Epoch 28/100\n",
      "59/59 [==============================] - 3s 54ms/step - loss: 0.1286\n",
      "Epoch 29/100\n",
      "59/59 [==============================] - 3s 54ms/step - loss: 0.1282\n",
      "Epoch 30/100\n",
      "59/59 [==============================] - 3s 54ms/step - loss: 0.1272\n",
      "Epoch 31/100\n",
      "59/59 [==============================] - 3s 55ms/step - loss: 0.1267\n",
      "Epoch 32/100\n",
      "59/59 [==============================] - 3s 54ms/step - loss: 0.1265\n",
      "Epoch 33/100\n",
      "59/59 [==============================] - 3s 54ms/step - loss: 0.1256\n",
      "Epoch 34/100\n",
      "59/59 [==============================] - 3s 54ms/step - loss: 0.1251\n",
      "Epoch 35/100\n",
      "59/59 [==============================] - 3s 55ms/step - loss: 0.1246\n",
      "Epoch 36/100\n",
      "59/59 [==============================] - 3s 55ms/step - loss: 0.1243\n",
      "Epoch 37/100\n",
      "59/59 [==============================] - 3s 56ms/step - loss: 0.1242\n",
      "Epoch 38/100\n",
      "59/59 [==============================] - 3s 54ms/step - loss: 0.1235\n",
      "Epoch 39/100\n",
      "59/59 [==============================] - 3s 54ms/step - loss: 0.1234\n",
      "Epoch 40/100\n",
      "59/59 [==============================] - 3s 54ms/step - loss: 0.1231\n",
      "Epoch 41/100\n",
      "59/59 [==============================] - 3s 54ms/step - loss: 0.1226\n",
      "Epoch 42/100\n",
      "59/59 [==============================] - 3s 55ms/step - loss: 0.1223\n",
      "Epoch 43/100\n",
      "59/59 [==============================] - 3s 54ms/step - loss: 0.1221\n",
      "Epoch 44/100\n",
      "59/59 [==============================] - 3s 55ms/step - loss: 0.1215\n",
      "Epoch 45/100\n",
      "59/59 [==============================] - 3s 54ms/step - loss: 0.1215\n",
      "Epoch 46/100\n",
      "59/59 [==============================] - 3s 54ms/step - loss: 0.1213\n",
      "Epoch 47/100\n",
      "59/59 [==============================] - 3s 54ms/step - loss: 0.1207\n",
      "Epoch 48/100\n",
      "59/59 [==============================] - 3s 54ms/step - loss: 0.1206\n",
      "Epoch 49/100\n",
      "59/59 [==============================] - 3s 54ms/step - loss: 0.1207\n",
      "Epoch 50/100\n",
      "59/59 [==============================] - 3s 54ms/step - loss: 0.1199\n",
      "Epoch 51/100\n",
      "59/59 [==============================] - 3s 55ms/step - loss: 0.1202\n",
      "Epoch 52/100\n",
      "59/59 [==============================] - 3s 55ms/step - loss: 0.1196\n",
      "Epoch 53/100\n",
      "59/59 [==============================] - 3s 54ms/step - loss: 0.1193\n",
      "Epoch 54/100\n",
      "59/59 [==============================] - 3s 54ms/step - loss: 0.1193\n",
      "Epoch 55/100\n",
      "59/59 [==============================] - 3s 55ms/step - loss: 0.1193\n",
      "Epoch 56/100\n",
      "59/59 [==============================] - 3s 54ms/step - loss: 0.1187\n",
      "Epoch 57/100\n",
      "59/59 [==============================] - 3s 54ms/step - loss: 0.1188\n",
      "Epoch 58/100\n",
      "59/59 [==============================] - 3s 54ms/step - loss: 0.1183\n",
      "Epoch 59/100\n",
      "59/59 [==============================] - 3s 54ms/step - loss: 0.1182\n",
      "Epoch 60/100\n",
      "59/59 [==============================] - 3s 54ms/step - loss: 0.1181\n",
      "Epoch 61/100\n",
      "59/59 [==============================] - 3s 54ms/step - loss: 0.1178\n",
      "Epoch 62/100\n",
      "59/59 [==============================] - 3s 54ms/step - loss: 0.1178\n",
      "Epoch 63/100\n",
      "59/59 [==============================] - 3s 54ms/step - loss: 0.1174\n",
      "Epoch 64/100\n",
      "59/59 [==============================] - 3s 54ms/step - loss: 0.1171\n",
      "Epoch 65/100\n",
      "59/59 [==============================] - 3s 54ms/step - loss: 0.1174\n",
      "Epoch 66/100\n",
      "59/59 [==============================] - 3s 54ms/step - loss: 0.1171\n",
      "Epoch 67/100\n",
      "59/59 [==============================] - 3s 54ms/step - loss: 0.1172\n",
      "Epoch 68/100\n",
      "59/59 [==============================] - 3s 54ms/step - loss: 0.1164\n",
      "Epoch 69/100\n",
      "59/59 [==============================] - 3s 55ms/step - loss: 0.1164\n",
      "Epoch 70/100\n",
      "59/59 [==============================] - 3s 55ms/step - loss: 0.1162\n",
      "Epoch 71/100\n",
      "59/59 [==============================] - 3s 55ms/step - loss: 0.1162\n",
      "Epoch 72/100\n",
      "59/59 [==============================] - 3s 55ms/step - loss: 0.1163\n",
      "Epoch 73/100\n",
      "59/59 [==============================] - 3s 55ms/step - loss: 0.1160\n",
      "Epoch 74/100\n",
      "59/59 [==============================] - 3s 55ms/step - loss: 0.1156\n",
      "Epoch 75/100\n",
      "59/59 [==============================] - 3s 55ms/step - loss: 0.1153\n",
      "Epoch 76/100\n",
      "59/59 [==============================] - 3s 54ms/step - loss: 0.1155\n",
      "Epoch 77/100\n",
      "59/59 [==============================] - 3s 55ms/step - loss: 0.1151\n",
      "Epoch 78/100\n",
      "59/59 [==============================] - 3s 55ms/step - loss: 0.1152\n",
      "Epoch 79/100\n",
      "59/59 [==============================] - 3s 54ms/step - loss: 0.1151\n",
      "Epoch 80/100\n",
      "59/59 [==============================] - 3s 54ms/step - loss: 0.1149\n",
      "Epoch 81/100\n",
      "59/59 [==============================] - 3s 54ms/step - loss: 0.1143\n",
      "Epoch 82/100\n",
      "59/59 [==============================] - 3s 55ms/step - loss: 0.1147\n",
      "Epoch 83/100\n",
      "59/59 [==============================] - 3s 54ms/step - loss: 0.1142\n",
      "Epoch 84/100\n",
      "59/59 [==============================] - 3s 54ms/step - loss: 0.1145\n",
      "Epoch 85/100\n",
      "59/59 [==============================] - 3s 54ms/step - loss: 0.1140\n",
      "Epoch 86/100\n",
      "59/59 [==============================] - 3s 54ms/step - loss: 0.1138\n",
      "Epoch 87/100\n",
      "59/59 [==============================] - 3s 55ms/step - loss: 0.1139\n",
      "Epoch 88/100\n",
      "59/59 [==============================] - 3s 55ms/step - loss: 0.1143\n",
      "Epoch 89/100\n",
      "59/59 [==============================] - 3s 55ms/step - loss: 0.1137\n",
      "Epoch 90/100\n",
      "59/59 [==============================] - 3s 55ms/step - loss: 0.1135\n",
      "Epoch 91/100\n",
      "59/59 [==============================] - 3s 54ms/step - loss: 0.1135\n",
      "Epoch 92/100\n",
      "59/59 [==============================] - 3s 54ms/step - loss: 0.1137\n",
      "Epoch 93/100\n",
      "59/59 [==============================] - 3s 55ms/step - loss: 0.1131\n",
      "Epoch 94/100\n",
      "59/59 [==============================] - 3s 54ms/step - loss: 0.1134\n",
      "Epoch 95/100\n",
      "59/59 [==============================] - 3s 54ms/step - loss: 0.1129\n",
      "Epoch 96/100\n",
      "59/59 [==============================] - 3s 55ms/step - loss: 0.1129\n",
      "Epoch 97/100\n",
      "59/59 [==============================] - 3s 53ms/step - loss: 0.1128\n",
      "Epoch 98/100\n",
      "59/59 [==============================] - 3s 54ms/step - loss: 0.1128\n",
      "Epoch 99/100\n",
      "59/59 [==============================] - 3s 54ms/step - loss: 0.1128\n",
      "Epoch 100/100\n",
      "59/59 [==============================] - 3s 54ms/step - loss: 0.1127\n"
     ]
    },
    {
     "data": {
      "text/plain": [
       "<keras.callbacks.History at 0x29d58ea40>"
      ]
     },
     "execution_count": 7,
     "metadata": {},
     "output_type": "execute_result"
    }
   ],
   "source": [
    "autoencoder.fit(X_train_noise, X_train, \n",
    "                epochs=100, batch_size=1024, \n",
    "                shuffle=True)"
   ]
  },
  {
   "cell_type": "code",
   "execution_count": 8,
   "id": "805c2580-ea21-4a43-a417-099755c78c24",
   "metadata": {},
   "outputs": [
    {
     "name": "stdout",
     "output_type": "stream",
     "text": [
      "1/1 [==============================] - 0s 66ms/step\n",
      "1/1 [==============================] - 0s 80ms/step\n",
      "1/1 [==============================] - 0s 8ms/step\n",
      "1/1 [==============================] - 0s 14ms/step\n"
     ]
    },
    {
     "name": "stderr",
     "output_type": "stream",
     "text": [
      "2022-11-05 16:14:57.653863: I tensorflow/core/grappler/optimizers/custom_graph_optimizer_registry.cc:114] Plugin optimizer for device_type GPU is enabled.\n",
      "2022-11-05 16:14:57.732041: I tensorflow/core/grappler/optimizers/custom_graph_optimizer_registry.cc:114] Plugin optimizer for device_type GPU is enabled.\n"
     ]
    }
   ],
   "source": [
    "X1 = X_test[0:1, :]\n",
    "N1 = X_test_noise[0:1, :]\n",
    "Z1 = encoder.predict(N1)\n",
    "R1 = autoencoder.predict(N1)\n",
    "\n",
    "X2 = X_test[1:2, :]\n",
    "N2 = X_test_noise[1:2, :]\n",
    "Z2 = encoder.predict(N2)\n",
    "R2 = autoencoder.predict(N2)"
   ]
  },
  {
   "cell_type": "code",
   "execution_count": 9,
   "id": "7a95ece9-d7af-40dc-8870-364fc243faec",
   "metadata": {},
   "outputs": [
    {
     "data": {
      "image/png": "[encoded data removed]",
      "text/plain": [
       "<Figure size 1200x800 with 6 Axes>"
      ]
     },
     "metadata": {},
     "output_type": "display_data"
    }
   ],
   "source": [
    "fig, ax = plt.subplots(ncols=3, nrows=2, figsize=(12, 8), width_ratios=(1,1,1))\n",
    "ax[0, 0].imshow(X1.reshape((28, 28)), cmap='gray')\n",
    "ax[0, 1].imshow(N1.reshape((28, 28)), cmap='gray')\n",
    "ax[0, 2].imshow(R1.reshape((28, 28)), cmap='gray')\n",
    "ax[1, 0].imshow(X2.reshape((28, 28)), cmap='gray')\n",
    "ax[1, 1].imshow(N2.reshape((28, 28)), cmap='gray')\n",
    "ax[1, 2].imshow(R2.reshape((28, 28)), cmap='gray')\n",
    "\n",
    "ax[0, 0].set_title('Input')\n",
    "ax[0, 1].set_title('Latent vector')\n",
    "ax[0, 2].set_title('Reconstructed')\n",
    "\n",
    "# plt.show()\n",
    "plt.savefig(\"mnist_denoise_autoencoder_output.pdf\", bbox_inches='tight')"
   ]
  },
  {
   "cell_type": "code",
   "execution_count": 17,
   "id": "cb00ac7d-a8d4-405a-a398-249d548601ee",
   "metadata": {},
   "outputs": [
    {
     "data": {
      "image/png": "[encoded data removed]",
      "text/plain": [
       "<Figure size 640x480 with 1 Axes>"
      ]
     },
     "metadata": {},
     "output_type": "display_data"
    }
   ],
   "source": [
    "idx = 41\n",
    "X = X_train[idx:(idx+1), :]\n",
    "N = X_train_noise[idx:(idx+1), :]\n",
    "Z = autoencoder(N)\n",
    "\n",
    "plt.imshow(X.reshape((28, 28)), cmap='gray')\n",
    "plt.savefig('x41_original.pdf', bbox_inches='tight')"
   ]
  },
  {
   "cell_type": "code",
   "execution_count": 18,
   "id": "e864eb73-9049-4083-9d2d-b3af7e1bfa67",
   "metadata": {},
   "outputs": [
    {
     "data": {
      "image/png": "[encoded data removed]",
      "text/plain": [
       "<Figure size 640x480 with 1 Axes>"
      ]
     },
     "metadata": {},
     "output_type": "display_data"
    }
   ],
   "source": [
    "plt.imshow(N.reshape((28, 28)), cmap='gray')\n",
    "plt.savefig('x41_noise.pdf', bbox_inches='tight')"
   ]
  }
 ],
 "metadata": {
  "kernelspec": {
   "display_name": "Python 3 (ipykernel)",
   "language": "python",
   "name": "python3"
  },
  "language_info": {
   "codemirror_mode": {
    "name": "ipython",
    "version": 3
   },
   "file_extension": ".py",
   "mimetype": "text/x-python",
   "name": "python",
   "nbconvert_exporter": "python",
   "pygments_lexer": "ipython3",
   "version": "3.10.6"
  }
 },
 "nbformat": 4,
 "nbformat_minor": 5
}
