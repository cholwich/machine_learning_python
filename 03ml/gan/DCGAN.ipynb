{
  "nbformat": 4,
  "nbformat_minor": 0,
  "metadata": {
    "colab": {
      "provenance": [],
      "machine_shape": "hm"
    },
    "kernelspec": {
      "name": "python3",
      "display_name": "Python 3"
    },
    "language_info": {
      "name": "python"
    },
    "accelerator": "GPU",
    "gpuClass": "premium"
  },
  "cells": [
    {
      "cell_type": "code",
      "metadata": {
        "id": "cvVFoQjdSlMB"
      },
      "source": [
        "import tensorflow as tf\n",
        "from tensorflow.keras import layers\n",
        "import numpy as np\n",
        "import matplotlib.pyplot as plt\n",
        "\n",
        "np.set_printoptions(linewidth=500, precision=1)"
      ],
      "execution_count": 1,
      "outputs": []
    },
    {
      "cell_type": "code",
      "metadata": {
        "id": "ABOBGXte4ibR",
        "colab": {
          "base_uri": "https://localhost:8080/"
        },
        "outputId": "52344e7d-465c-4632-dc00-4243eb708e09"
      },
      "source": [
        "# Load the dataset\n",
        "(x_train, y_train), (x_test, y_test) = tf.keras.datasets.mnist.load_data()\n",
        "\n",
        "x_train = np.expand_dims(x_train, axis=3)\n",
        "x_train = (x_train - 127.5) / 127.5 # normalize value to [-1, 1]"
      ],
      "execution_count": 2,
      "outputs": [
        {
          "output_type": "stream",
          "name": "stdout",
          "text": [
            "Downloading data from https://storage.googleapis.com/tensorflow/tf-keras-datasets/mnist.npz\n",
            "11490434/11490434 [==============================] - 0s 0us/step\n"
          ]
        }
      ]
    },
    {
      "cell_type": "code",
      "metadata": {
        "id": "p8YzjWqdVIpN"
      },
      "source": [
        "BUFFER_SIZE = x_train.shape[0]\n",
        "BATCH_SIZE = 2048\n",
        "LATENT_DIM = 100\n",
        "\n",
        "dataset = tf.data.Dataset.from_tensor_slices(x_train).shuffle(BUFFER_SIZE).batch(BATCH_SIZE)"
      ],
      "execution_count": 3,
      "outputs": []
    },
    {
      "cell_type": "code",
      "metadata": {
        "colab": {
          "base_uri": "https://localhost:8080/"
        },
        "id": "cQlpexGJVaiO",
        "outputId": "3745114f-a400-4cf9-8c28-0fcf5c32d39f"
      },
      "source": [
        "# Define the discriminator\n",
        "D = tf.keras.Sequential()\n",
        "D.add(layers.Conv2D(64, (5, 5), strides=(2, 2), padding='same', \n",
        "                    input_shape=[28, 28, 1]))\n",
        "D.add(layers.LeakyReLU(alpha=0.2))\n",
        "D.add(layers.Dropout(0.3))\n",
        "\n",
        "D.add(layers.Conv2D(128, (5, 5), strides=(2, 2), padding='same'))\n",
        "D.add(layers.LeakyReLU(alpha=0.2))\n",
        "D.add(layers.Dropout(0.3))\n",
        "\n",
        "D.add(layers.Flatten())\n",
        "D.add(layers.Dense(1, activation='sigmoid'))\n",
        "\n",
        "# Display the discriminator\n",
        "D.summary()"
      ],
      "execution_count": 4,
      "outputs": [
        {
          "output_type": "stream",
          "name": "stdout",
          "text": [
            "Model: \"sequential\"\n",
            "_________________________________________________________________\n",
            " Layer (type)                Output Shape              Param #   \n",
            "=================================================================\n",
            " conv2d (Conv2D)             (None, 14, 14, 64)        1664      \n",
            "                                                                 \n",
            " leaky_re_lu (LeakyReLU)     (None, 14, 14, 64)        0         \n",
            "                                                                 \n",
            " dropout (Dropout)           (None, 14, 14, 64)        0         \n",
            "                                                                 \n",
            " conv2d_1 (Conv2D)           (None, 7, 7, 128)         204928    \n",
            "                                                                 \n",
            " leaky_re_lu_1 (LeakyReLU)   (None, 7, 7, 128)         0         \n",
            "                                                                 \n",
            " dropout_1 (Dropout)         (None, 7, 7, 128)         0         \n",
            "                                                                 \n",
            " flatten (Flatten)           (None, 6272)              0         \n",
            "                                                                 \n",
            " dense (Dense)               (None, 1)                 6273      \n",
            "                                                                 \n",
            "=================================================================\n",
            "Total params: 212,865\n",
            "Trainable params: 212,865\n",
            "Non-trainable params: 0\n",
            "_________________________________________________________________\n"
          ]
        }
      ]
    },
    {
      "cell_type": "code",
      "metadata": {
        "colab": {
          "base_uri": "https://localhost:8080/"
        },
        "id": "rMnnzHwSWlRt",
        "outputId": "11fccd8d-7b0c-482d-b905-4403705b8467"
      },
      "source": [
        "# Define the generator\n",
        "\n",
        "G = tf.keras.Sequential()\n",
        "G.add(layers.Dense(7*7*256, input_shape=(LATENT_DIM, )))\n",
        "G.add(layers.BatchNormalization())\n",
        "G.add(layers.ReLU())\n",
        "\n",
        "G.add(layers.Reshape((7, 7, 256)))\n",
        "\n",
        "G.add(layers.Conv2DTranspose(128, (5, 5), strides=(1, 1), padding='same'))\n",
        "G.add(layers.BatchNormalization())\n",
        "G.add(layers.ReLU())\n",
        "\n",
        "G.add(layers.Conv2DTranspose(64, (5, 5), strides=(2, 2), padding='same'))\n",
        "G.add(layers.BatchNormalization())\n",
        "G.add(layers.ReLU())\n",
        "\n",
        "G.add(layers.Conv2DTranspose(1, (5, 5), strides=(2, 2), padding='same',\n",
        "                             activation='tanh'))\n",
        "\n",
        "G.summary()"
      ],
      "execution_count": 5,
      "outputs": [
        {
          "output_type": "stream",
          "name": "stdout",
          "text": [
            "Model: \"sequential_1\"\n",
            "_________________________________________________________________\n",
            " Layer (type)                Output Shape              Param #   \n",
            "=================================================================\n",
            " dense_1 (Dense)             (None, 12544)             1266944   \n",
            "                                                                 \n",
            " batch_normalization (BatchN  (None, 12544)            50176     \n",
            " ormalization)                                                   \n",
            "                                                                 \n",
            " re_lu (ReLU)                (None, 12544)             0         \n",
            "                                                                 \n",
            " reshape (Reshape)           (None, 7, 7, 256)         0         \n",
            "                                                                 \n",
            " conv2d_transpose (Conv2DTra  (None, 7, 7, 128)        819328    \n",
            " nspose)                                                         \n",
            "                                                                 \n",
            " batch_normalization_1 (Batc  (None, 7, 7, 128)        512       \n",
            " hNormalization)                                                 \n",
            "                                                                 \n",
            " re_lu_1 (ReLU)              (None, 7, 7, 128)         0         \n",
            "                                                                 \n",
            " conv2d_transpose_1 (Conv2DT  (None, 14, 14, 64)       204864    \n",
            " ranspose)                                                       \n",
            "                                                                 \n",
            " batch_normalization_2 (Batc  (None, 14, 14, 64)       256       \n",
            " hNormalization)                                                 \n",
            "                                                                 \n",
            " re_lu_2 (ReLU)              (None, 14, 14, 64)        0         \n",
            "                                                                 \n",
            " conv2d_transpose_2 (Conv2DT  (None, 28, 28, 1)        1601      \n",
            " ranspose)                                                       \n",
            "                                                                 \n",
            "=================================================================\n",
            "Total params: 2,343,681\n",
            "Trainable params: 2,318,209\n",
            "Non-trainable params: 25,472\n",
            "_________________________________________________________________\n"
          ]
        }
      ]
    },
    {
      "cell_type": "code",
      "metadata": {
        "colab": {
          "base_uri": "https://localhost:8080/",
          "height": 283
        },
        "id": "9Wa-ib75bm0k",
        "outputId": "5168e63d-4e68-4a4b-bdf6-15e5507b7072"
      },
      "source": [
        "z = tf.random.normal([1, LATENT_DIM])\n",
        "fake_img = G(z, training=False)\n",
        "plt.imshow(fake_img[0, :, :, 0], cmap='gray')"
      ],
      "execution_count": 6,
      "outputs": [
        {
          "output_type": "execute_result",
          "data": {
            "text/plain": [
              "<matplotlib.image.AxesImage at 0x7fa6be215ed0>"
            ]
          },
          "metadata": {},
          "execution_count": 6
        },
        {
          "output_type": "display_data",
          "data": {
            "text/plain": [
              "<Figure size 432x288 with 1 Axes>"
            ],
            "image/png": "[encoded data removed]"
          },
          "metadata": {
            "needs_background": "light"
          }
        }
      ]
    },
    {
      "cell_type": "code",
      "metadata": {
        "id": "FiGIHZAtcMBP"
      },
      "source": [
        "# Define losses\n",
        "cross_entropy = tf.keras.losses.BinaryCrossentropy()\n",
        "binary_accuracy = tf.keras.metrics.BinaryAccuracy()\n",
        "\n",
        "def discriminator_loss(real_output, fake_output):\n",
        "    real_loss = cross_entropy(0.9*tf.ones_like(real_output), real_output)\n",
        "    fake_loss = cross_entropy(tf.zeros_like(fake_output), fake_output)\n",
        "    real_acc = binary_accuracy(tf.ones_like(real_output), real_output)\n",
        "    fake_acc = binary_accuracy(tf.ones_like(fake_output), fake_output)\n",
        "    return (real_loss + fake_loss), (real_acc + fake_acc)/2\n",
        "\n",
        "def generator_loss(fake_output):\n",
        "    fake_loss = cross_entropy(0.9*tf.ones_like(fake_output), fake_output)\n",
        "    return fake_loss\n"
      ],
      "execution_count": 7,
      "outputs": []
    },
    {
      "cell_type": "code",
      "metadata": {
        "id": "EZrwmgzAdDBM"
      },
      "source": [
        "# Define optimizers\n",
        "G_optimizer = tf.keras.optimizers.Adam(1e-4)\n",
        "D_optimizer = tf.keras.optimizers.Adam(1e-4)"
      ],
      "execution_count": 8,
      "outputs": []
    },
    {
      "cell_type": "code",
      "metadata": {
        "id": "cesgHJK-dUV3"
      },
      "source": [
        "@tf.function\n",
        "def train_step(images):\n",
        "    noise = tf.random.normal([BATCH_SIZE, LATENT_DIM])\n",
        "\n",
        "    with tf.GradientTape() as G_tape, tf.GradientTape() as D_tape:\n",
        "        generated_imgs = G(noise, training=True)\n",
        "\n",
        "        real_output = D(images, training=True)\n",
        "        fake_output = D(generated_imgs, training=True)\n",
        "\n",
        "        G_loss = generator_loss(fake_output)\n",
        "        D_loss, D_acc = discriminator_loss(real_output, fake_output)\n",
        "    G_gradients = G_tape.gradient(G_loss, G.trainable_variables)\n",
        "    D_gradients = D_tape.gradient(D_loss, D.trainable_variables)\n",
        "    G_optimizer.apply_gradients(zip(G_gradients, G.trainable_variables))\n",
        "    D_optimizer.apply_gradients(zip(D_gradients, D.trainable_variables))\n",
        "    return G_loss, D_loss, D_acc\n",
        "    "
      ],
      "execution_count": 9,
      "outputs": []
    },
    {
      "cell_type": "code",
      "metadata": {
        "colab": {
          "base_uri": "https://localhost:8080/"
        },
        "id": "tqtl_RUpXogC",
        "outputId": "6e7cc3ae-3258-484c-9ced-0b099d7c1013"
      },
      "source": [
        "EPOCHS = 1000 \n",
        "\n",
        "real = np.ones((BATCH_SIZE, 1))\n",
        "fake = np.zeros((BATCH_SIZE, 1))\n",
        "\n",
        "for epoch in range(EPOCHS):\n",
        "    d_loss = g_loss = d_acc = 0.0\n",
        "    n = 0\n",
        "    for batch in dataset:\n",
        "        dl, gl, da = train_step(batch)\n",
        "        d_loss += dl\n",
        "        d_acc += da\n",
        "        g_loss += gl\n",
        "        n += 1\n",
        "    print(\"Epoch %d: d_loss %f, d_acc %f, g_loss %f\" % (epoch+1, d_loss/n, d_acc/n, g_loss/n), end=\"\\n\")"
      ],
      "execution_count": null,
      "outputs": [
        {
          "output_type": "stream",
          "name": "stdout",
          "text": [
            "Epoch 1: d_loss 0.636836, d_acc 0.943764, g_loss 1.205263\n",
            "Epoch 2: d_loss 0.663691, d_acc 0.952258, g_loss 1.228194\n",
            "Epoch 3: d_loss 0.721298, d_acc 0.836873, g_loss 1.212181\n",
            "Epoch 4: d_loss 0.799039, d_acc 0.765086, g_loss 1.120354\n",
            "Epoch 5: d_loss 1.138447, d_acc 0.709540, g_loss 0.866252\n",
            "Epoch 6: d_loss 1.083287, d_acc 0.667863, g_loss 0.886505\n",
            "Epoch 7: d_loss 1.094151, d_acc 0.634166, g_loss 0.931987\n",
            "Epoch 8: d_loss 1.344186, d_acc 0.607775, g_loss 0.812458\n"
          ]
        }
      ]
    },
    {
      "cell_type": "code",
      "metadata": {
        "id": "2Cfc9gGTgeOE"
      },
      "source": [
        "fake_img = G(z, training=False)\n",
        "plt.imshow(fake_img[0, :, :, 0], cmap='gray')"
      ],
      "execution_count": null,
      "outputs": []
    },
    {
      "cell_type": "code",
      "metadata": {
        "id": "kXe8_z6AtlNo"
      },
      "source": [
        "z1 = tf.random.normal([1, LATENT_DIM])\n",
        "fake_img = G(z1, training=False)\n",
        "plt.imshow(fake_img[0, :, :, 0], cmap='gray')"
      ],
      "execution_count": null,
      "outputs": []
    },
    {
      "cell_type": "code",
      "metadata": {
        "id": "dTtzGMY_BSR0"
      },
      "source": [
        "z2 = tf.random.normal([1, LATENT_DIM])\n",
        "fake_img = G(z2, training=False)\n",
        "plt.imshow(fake_img[0, :, :, 0], cmap='gray')"
      ],
      "execution_count": null,
      "outputs": []
    },
    {
      "cell_type": "code",
      "metadata": {
        "id": "lEmMdncMBXwd"
      },
      "source": [
        "z3 = (z1+z2)/2\n",
        "fake_img = G(z3, training=False)\n",
        "plt.imshow(fake_img[0, :, :, 0], cmap='gray')"
      ],
      "execution_count": null,
      "outputs": []
    },
    {
      "cell_type": "code",
      "metadata": {
        "id": "0KOudTo1Bh1Z"
      },
      "source": [
        "# loaded_model = tf.keras.models.load_model('/content/gdrive/My Drive/dcgan_g')\n",
        "z4 = tf.random.normal([1, LATENT_DIM])\n",
        "fake_img = loaded_model(z4, training=False)\n",
        "plt.imshow(fake_img[0, :, :, 0], cmap='gray')"
      ],
      "execution_count": null,
      "outputs": []
    }
  ]
}