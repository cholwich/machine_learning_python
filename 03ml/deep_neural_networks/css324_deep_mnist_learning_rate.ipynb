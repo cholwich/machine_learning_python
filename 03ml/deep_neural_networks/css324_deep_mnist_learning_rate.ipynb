{
 "cells": [
  {
   "cell_type": "code",
   "execution_count": 1,
   "metadata": {
    "id": "OPdpBZ0h17y4"
   },
   "outputs": [],
   "source": [
    "import tensorflow as tf\n",
    "import numpy as np\n",
    "import matplotlib.pyplot as plt\n",
    "\n",
    "np.set_printoptions(linewidth=500, precision=1, suppress=True, floatmode='fixed')"
   ]
  },
  {
   "cell_type": "code",
   "execution_count": 2,
   "metadata": {
    "colab": {
     "base_uri": "https://localhost:8080/"
    },
    "id": "ABOBGXte4ibR",
    "outputId": "47136222-55b0-4050-fe8f-a395dc778569"
   },
   "outputs": [],
   "source": [
    "# Load the dataset\n",
    "(x_train, y_train), (x_test, y_test) = tf.keras.datasets.mnist.load_data()"
   ]
  },
  {
   "cell_type": "code",
   "execution_count": 3,
   "metadata": {
    "colab": {
     "base_uri": "https://localhost:8080/"
    },
    "id": "dZKqrMYD6_kb",
    "outputId": "64847474-503a-4260-8ba8-b3c3a50e35a8"
   },
   "outputs": [
    {
     "name": "stdout",
     "output_type": "stream",
     "text": [
      "Metal device set to: Apple M1 Max\n",
      "\n",
      "systemMemory: 64.00 GB\n",
      "maxCacheSize: 24.00 GB\n",
      "\n"
     ]
    },
    {
     "name": "stderr",
     "output_type": "stream",
     "text": [
      "2022-10-16 10:59:59.853394: I tensorflow/core/common_runtime/pluggable_device/pluggable_device_factory.cc:306] Could not identify NUMA node of platform GPU ID 0, defaulting to 0. Your kernel may not have been built with NUMA support.\n",
      "2022-10-16 10:59:59.853592: I tensorflow/core/common_runtime/pluggable_device/pluggable_device_factory.cc:272] Created TensorFlow device (/job:localhost/replica:0/task:0/device:GPU:0 with 0 MB memory) -> physical PluggableDevice (device: 0, name: METAL, pci bus id: <undefined>)\n"
     ]
    }
   ],
   "source": [
    "# Preprocess\n",
    "\n",
    "# Normalize input vectors\n",
    "# [0, 255] --> [0.0, 1.0]\n",
    "X_train = x_train / 255\n",
    "X_test = x_test / 255\n",
    "\n",
    "# Encode target outputs using one-hot encoding\n",
    "Y_train = tf.one_hot(y_train, 10)\n",
    "Y_test = tf.one_hot(y_test, 10)"
   ]
  },
  {
   "cell_type": "code",
   "execution_count": 4,
   "metadata": {},
   "outputs": [],
   "source": [
    "batch_size = 512\n",
    "epochs = 50"
   ]
  },
  {
   "cell_type": "code",
   "execution_count": 5,
   "metadata": {
    "colab": {
     "base_uri": "https://localhost:8080/"
    },
    "id": "aywc6UlV_LY5",
    "outputId": "6a1ec06c-be63-468f-ff35-17c4741d6214"
   },
   "outputs": [],
   "source": [
    "# Define a model\n",
    "model = tf.keras.models.Sequential([\n",
    "    tf.keras.layers.Flatten(input_shape=(28, 28)),\n",
    "    tf.keras.layers.Dense(128, activation='relu'),\n",
    "    tf.keras.layers.Dense(64, activation='relu'),\n",
    "    tf.keras.layers.Dense(10, activation='softmax')\n",
    "])"
   ]
  },
  {
   "cell_type": "code",
   "execution_count": 6,
   "metadata": {
    "colab": {
     "base_uri": "https://localhost:8080/"
    },
    "id": "xVYu-xgyAcpY",
    "outputId": "0e253c8c-af18-4787-e2cf-93b9337569da"
   },
   "outputs": [
    {
     "name": "stdout",
     "output_type": "stream",
     "text": [
      "Epoch 1/50\n"
     ]
    },
    {
     "name": "stderr",
     "output_type": "stream",
     "text": [
      "2022-10-16 11:00:00.135176: W tensorflow/core/platform/profile_utils/cpu_utils.cc:128] Failed to get CPU frequency: 0 Hz\n",
      "2022-10-16 11:00:00.246584: I tensorflow/core/grappler/optimizers/custom_graph_optimizer_registry.cc:114] Plugin optimizer for device_type GPU is enabled.\n"
     ]
    },
    {
     "name": "stdout",
     "output_type": "stream",
     "text": [
      "118/118 [==============================] - 1s 9ms/step - loss: 2.3610 - accuracy: 0.1677\n",
      "Epoch 2/50\n",
      "118/118 [==============================] - 1s 8ms/step - loss: 2.3012 - accuracy: 0.1156\n",
      "Epoch 3/50\n",
      "118/118 [==============================] - 1s 8ms/step - loss: 2.3024 - accuracy: 0.1105\n",
      "Epoch 4/50\n",
      "118/118 [==============================] - 1s 8ms/step - loss: 2.3021 - accuracy: 0.1080\n",
      "Epoch 5/50\n",
      "118/118 [==============================] - 1s 7ms/step - loss: 2.3023 - accuracy: 0.1106\n",
      "Epoch 6/50\n",
      "118/118 [==============================] - 1s 7ms/step - loss: 2.3022 - accuracy: 0.1104\n",
      "Epoch 7/50\n",
      "118/118 [==============================] - 1s 8ms/step - loss: 2.3022 - accuracy: 0.1114\n",
      "Epoch 8/50\n",
      "118/118 [==============================] - 1s 8ms/step - loss: 2.3021 - accuracy: 0.1094\n",
      "Epoch 9/50\n",
      "118/118 [==============================] - 1s 8ms/step - loss: 2.3022 - accuracy: 0.1095\n",
      "Epoch 10/50\n",
      "118/118 [==============================] - 1s 11ms/step - loss: 2.3023 - accuracy: 0.1108\n",
      "Epoch 11/50\n",
      "118/118 [==============================] - 1s 8ms/step - loss: 2.3022 - accuracy: 0.1093\n",
      "Epoch 12/50\n",
      "118/118 [==============================] - 1s 8ms/step - loss: 2.3021 - accuracy: 0.1101\n",
      "Epoch 13/50\n",
      "118/118 [==============================] - 1s 8ms/step - loss: 2.3023 - accuracy: 0.1101\n",
      "Epoch 14/50\n",
      "118/118 [==============================] - 1s 8ms/step - loss: 2.3022 - accuracy: 0.1100\n",
      "Epoch 15/50\n",
      "118/118 [==============================] - 1s 8ms/step - loss: 2.3021 - accuracy: 0.1093\n",
      "Epoch 16/50\n",
      "118/118 [==============================] - 1s 8ms/step - loss: 2.3022 - accuracy: 0.1101\n",
      "Epoch 17/50\n",
      "118/118 [==============================] - 1s 8ms/step - loss: 2.3024 - accuracy: 0.1097\n",
      "Epoch 18/50\n",
      "118/118 [==============================] - 1s 8ms/step - loss: 2.3023 - accuracy: 0.1087\n",
      "Epoch 19/50\n",
      "118/118 [==============================] - 1s 8ms/step - loss: 2.3022 - accuracy: 0.1108\n",
      "Epoch 20/50\n",
      "118/118 [==============================] - 1s 8ms/step - loss: 2.3023 - accuracy: 0.1103\n",
      "Epoch 21/50\n",
      "118/118 [==============================] - 1s 8ms/step - loss: 2.3024 - accuracy: 0.1097\n",
      "Epoch 22/50\n",
      "118/118 [==============================] - 1s 8ms/step - loss: 2.3022 - accuracy: 0.1096\n",
      "Epoch 23/50\n",
      "118/118 [==============================] - 1s 8ms/step - loss: 2.3023 - accuracy: 0.1103\n",
      "Epoch 24/50\n",
      "118/118 [==============================] - 1s 8ms/step - loss: 2.3023 - accuracy: 0.1101\n",
      "Epoch 25/50\n",
      "118/118 [==============================] - 1s 8ms/step - loss: 2.3024 - accuracy: 0.1099\n",
      "Epoch 26/50\n",
      "118/118 [==============================] - 1s 8ms/step - loss: 2.3023 - accuracy: 0.1103\n",
      "Epoch 27/50\n",
      "118/118 [==============================] - 1s 8ms/step - loss: 2.3021 - accuracy: 0.1110\n",
      "Epoch 28/50\n",
      "118/118 [==============================] - 1s 8ms/step - loss: 2.3023 - accuracy: 0.1090\n",
      "Epoch 29/50\n",
      "118/118 [==============================] - 1s 7ms/step - loss: 2.3022 - accuracy: 0.1084\n",
      "Epoch 30/50\n",
      "118/118 [==============================] - 1s 7ms/step - loss: 2.3022 - accuracy: 0.1091\n",
      "Epoch 31/50\n",
      "118/118 [==============================] - 1s 8ms/step - loss: 2.3022 - accuracy: 0.1097\n",
      "Epoch 32/50\n",
      "118/118 [==============================] - 1s 8ms/step - loss: 2.3023 - accuracy: 0.1105\n",
      "Epoch 33/50\n",
      "118/118 [==============================] - 1s 8ms/step - loss: 2.3024 - accuracy: 0.1114\n",
      "Epoch 34/50\n",
      "118/118 [==============================] - 1s 8ms/step - loss: 2.3021 - accuracy: 0.1102\n",
      "Epoch 35/50\n",
      "118/118 [==============================] - 1s 8ms/step - loss: 2.3021 - accuracy: 0.1089\n",
      "Epoch 36/50\n",
      "118/118 [==============================] - 1s 8ms/step - loss: 2.3023 - accuracy: 0.1089\n",
      "Epoch 37/50\n",
      "118/118 [==============================] - 1s 8ms/step - loss: 2.3021 - accuracy: 0.1110\n",
      "Epoch 38/50\n",
      "118/118 [==============================] - 1s 8ms/step - loss: 2.3024 - accuracy: 0.1091\n",
      "Epoch 39/50\n",
      "118/118 [==============================] - 1s 8ms/step - loss: 2.3023 - accuracy: 0.1092\n",
      "Epoch 40/50\n",
      "118/118 [==============================] - 1s 8ms/step - loss: 2.3022 - accuracy: 0.1094\n",
      "Epoch 41/50\n",
      "118/118 [==============================] - 1s 8ms/step - loss: 2.3022 - accuracy: 0.1090\n",
      "Epoch 42/50\n",
      "118/118 [==============================] - 1s 8ms/step - loss: 2.3022 - accuracy: 0.1103\n",
      "Epoch 43/50\n",
      "118/118 [==============================] - 1s 8ms/step - loss: 2.3025 - accuracy: 0.1094\n",
      "Epoch 44/50\n",
      "118/118 [==============================] - 1s 8ms/step - loss: 2.3022 - accuracy: 0.1099\n",
      "Epoch 45/50\n",
      "118/118 [==============================] - 1s 8ms/step - loss: 2.3022 - accuracy: 0.1084\n",
      "Epoch 46/50\n",
      "118/118 [==============================] - 1s 8ms/step - loss: 2.3023 - accuracy: 0.1101\n",
      "Epoch 47/50\n",
      "118/118 [==============================] - 1s 8ms/step - loss: 2.3023 - accuracy: 0.1094\n",
      "Epoch 48/50\n",
      "118/118 [==============================] - 1s 7ms/step - loss: 2.3022 - accuracy: 0.1106\n",
      "Epoch 49/50\n",
      "118/118 [==============================] - 1s 8ms/step - loss: 2.3021 - accuracy: 0.1102\n",
      "Epoch 50/50\n",
      "118/118 [==============================] - 1s 7ms/step - loss: 2.3022 - accuracy: 0.1102\n"
     ]
    }
   ],
   "source": [
    "# Train the model\n",
    "model.compile(optimizer=tf.keras.optimizers.SGD(learning_rate=2e0),\n",
    "              loss=tf.keras.losses.CategoricalCrossentropy(),\n",
    "              metrics=['accuracy'])\n",
    "history0_lr1e0 = model.fit(X_train, Y_train, epochs=epochs, batch_size=batch_size, shuffle=True)"
   ]
  },
  {
   "cell_type": "code",
   "execution_count": 7,
   "metadata": {},
   "outputs": [],
   "source": [
    "# Define a model\n",
    "model = tf.keras.models.Sequential([\n",
    "    tf.keras.layers.Flatten(input_shape=(28, 28)),\n",
    "    tf.keras.layers.Dense(128, activation='relu'),\n",
    "    tf.keras.layers.Dense(64, activation='relu'),\n",
    "    tf.keras.layers.Dense(10, activation='softmax')\n",
    "])"
   ]
  },
  {
   "cell_type": "code",
   "execution_count": 8,
   "metadata": {},
   "outputs": [
    {
     "name": "stdout",
     "output_type": "stream",
     "text": [
      "Epoch 1/50\n",
      " 15/118 [==>...........................] - ETA: 0s - loss: 1.9879 - accuracy: 0.3888"
     ]
    },
    {
     "name": "stderr",
     "output_type": "stream",
     "text": [
      "2022-10-16 11:00:46.315299: I tensorflow/core/grappler/optimizers/custom_graph_optimizer_registry.cc:114] Plugin optimizer for device_type GPU is enabled.\n"
     ]
    },
    {
     "name": "stdout",
     "output_type": "stream",
     "text": [
      "118/118 [==============================] - 1s 8ms/step - loss: 0.8292 - accuracy: 0.7791\n",
      "Epoch 2/50\n",
      "118/118 [==============================] - 1s 8ms/step - loss: 0.3536 - accuracy: 0.8997\n",
      "Epoch 3/50\n",
      "118/118 [==============================] - 1s 7ms/step - loss: 0.2935 - accuracy: 0.9163\n",
      "Epoch 4/50\n",
      "118/118 [==============================] - 1s 8ms/step - loss: 0.2578 - accuracy: 0.9265\n",
      "Epoch 5/50\n",
      "118/118 [==============================] - 1s 8ms/step - loss: 0.2316 - accuracy: 0.9345\n",
      "Epoch 6/50\n",
      "118/118 [==============================] - 1s 8ms/step - loss: 0.2107 - accuracy: 0.9403\n",
      "Epoch 7/50\n",
      "118/118 [==============================] - 1s 8ms/step - loss: 0.1935 - accuracy: 0.9451\n",
      "Epoch 8/50\n",
      "118/118 [==============================] - 1s 8ms/step - loss: 0.1793 - accuracy: 0.9490\n",
      "Epoch 9/50\n",
      "118/118 [==============================] - 1s 8ms/step - loss: 0.1663 - accuracy: 0.9530\n",
      "Epoch 10/50\n",
      "118/118 [==============================] - 1s 8ms/step - loss: 0.1555 - accuracy: 0.9560\n",
      "Epoch 11/50\n",
      "118/118 [==============================] - 1s 8ms/step - loss: 0.1460 - accuracy: 0.9587\n",
      "Epoch 12/50\n",
      "118/118 [==============================] - 1s 8ms/step - loss: 0.1370 - accuracy: 0.9612\n",
      "Epoch 13/50\n",
      "118/118 [==============================] - 1s 8ms/step - loss: 0.1292 - accuracy: 0.9638\n",
      "Epoch 14/50\n",
      "118/118 [==============================] - 1s 8ms/step - loss: 0.1224 - accuracy: 0.9656\n",
      "Epoch 15/50\n",
      "118/118 [==============================] - 1s 8ms/step - loss: 0.1161 - accuracy: 0.9671\n",
      "Epoch 16/50\n",
      "118/118 [==============================] - 1s 8ms/step - loss: 0.1104 - accuracy: 0.9690\n",
      "Epoch 17/50\n",
      "118/118 [==============================] - 1s 8ms/step - loss: 0.1048 - accuracy: 0.9703\n",
      "Epoch 18/50\n",
      "118/118 [==============================] - 1s 8ms/step - loss: 0.1005 - accuracy: 0.9722\n",
      "Epoch 19/50\n",
      "118/118 [==============================] - 1s 8ms/step - loss: 0.0956 - accuracy: 0.9730\n",
      "Epoch 20/50\n",
      "118/118 [==============================] - 1s 8ms/step - loss: 0.0914 - accuracy: 0.9745\n",
      "Epoch 21/50\n",
      "118/118 [==============================] - 1s 8ms/step - loss: 0.0878 - accuracy: 0.9756\n",
      "Epoch 22/50\n",
      "118/118 [==============================] - 1s 8ms/step - loss: 0.0838 - accuracy: 0.9765\n",
      "Epoch 23/50\n",
      "118/118 [==============================] - 1s 8ms/step - loss: 0.0806 - accuracy: 0.9771\n",
      "Epoch 24/50\n",
      "118/118 [==============================] - 1s 8ms/step - loss: 0.0771 - accuracy: 0.9786\n",
      "Epoch 25/50\n",
      "118/118 [==============================] - 1s 8ms/step - loss: 0.0749 - accuracy: 0.9792\n",
      "Epoch 26/50\n",
      "118/118 [==============================] - 1s 9ms/step - loss: 0.0715 - accuracy: 0.9803\n",
      "Epoch 27/50\n",
      "118/118 [==============================] - 1s 8ms/step - loss: 0.0684 - accuracy: 0.9811\n",
      "Epoch 28/50\n",
      "118/118 [==============================] - 1s 8ms/step - loss: 0.0663 - accuracy: 0.9815\n",
      "Epoch 29/50\n",
      "118/118 [==============================] - 1s 8ms/step - loss: 0.0636 - accuracy: 0.9830\n",
      "Epoch 30/50\n",
      "118/118 [==============================] - 1s 8ms/step - loss: 0.0617 - accuracy: 0.9831\n",
      "Epoch 31/50\n",
      "118/118 [==============================] - 1s 8ms/step - loss: 0.0593 - accuracy: 0.9842\n",
      "Epoch 32/50\n",
      "118/118 [==============================] - 1s 8ms/step - loss: 0.0573 - accuracy: 0.9841\n",
      "Epoch 33/50\n",
      "118/118 [==============================] - 1s 8ms/step - loss: 0.0551 - accuracy: 0.9851\n",
      "Epoch 34/50\n",
      "118/118 [==============================] - 1s 8ms/step - loss: 0.0532 - accuracy: 0.9857\n",
      "Epoch 35/50\n",
      "118/118 [==============================] - 1s 8ms/step - loss: 0.0518 - accuracy: 0.9858\n",
      "Epoch 36/50\n",
      "118/118 [==============================] - 1s 8ms/step - loss: 0.0500 - accuracy: 0.9868\n",
      "Epoch 37/50\n",
      "118/118 [==============================] - 1s 8ms/step - loss: 0.0491 - accuracy: 0.9869\n",
      "Epoch 38/50\n",
      "118/118 [==============================] - 1s 8ms/step - loss: 0.0467 - accuracy: 0.9876\n",
      "Epoch 39/50\n",
      "118/118 [==============================] - 1s 8ms/step - loss: 0.0454 - accuracy: 0.9878\n",
      "Epoch 40/50\n",
      "118/118 [==============================] - 1s 8ms/step - loss: 0.0436 - accuracy: 0.9885\n",
      "Epoch 41/50\n",
      "118/118 [==============================] - 1s 8ms/step - loss: 0.0426 - accuracy: 0.9888\n",
      "Epoch 42/50\n",
      "118/118 [==============================] - 1s 8ms/step - loss: 0.0416 - accuracy: 0.9893\n",
      "Epoch 43/50\n",
      "118/118 [==============================] - 1s 8ms/step - loss: 0.0409 - accuracy: 0.9893\n",
      "Epoch 44/50\n",
      "118/118 [==============================] - 1s 8ms/step - loss: 0.0389 - accuracy: 0.9899\n",
      "Epoch 45/50\n",
      "118/118 [==============================] - 1s 8ms/step - loss: 0.0378 - accuracy: 0.9902\n",
      "Epoch 46/50\n",
      "118/118 [==============================] - 1s 8ms/step - loss: 0.0361 - accuracy: 0.9909\n",
      "Epoch 47/50\n",
      "118/118 [==============================] - 1s 8ms/step - loss: 0.0350 - accuracy: 0.9913\n",
      "Epoch 48/50\n",
      "118/118 [==============================] - 1s 8ms/step - loss: 0.0343 - accuracy: 0.9915\n",
      "Epoch 49/50\n",
      "118/118 [==============================] - 1s 8ms/step - loss: 0.0344 - accuracy: 0.9913\n",
      "Epoch 50/50\n",
      "118/118 [==============================] - 1s 8ms/step - loss: 0.0321 - accuracy: 0.9923\n"
     ]
    }
   ],
   "source": [
    "# Train the model\n",
    "model.compile(optimizer=tf.keras.optimizers.SGD(learning_rate=1e-1),\n",
    "              loss=tf.keras.losses.CategoricalCrossentropy(),\n",
    "              metrics=['accuracy'])\n",
    "history1_lr1en1 = model.fit(X_train, Y_train, epochs=epochs, batch_size=batch_size, shuffle=True)"
   ]
  },
  {
   "cell_type": "code",
   "execution_count": 9,
   "metadata": {},
   "outputs": [],
   "source": [
    "# Define a model\n",
    "model = tf.keras.models.Sequential([\n",
    "    tf.keras.layers.Flatten(input_shape=(28, 28)),\n",
    "    tf.keras.layers.Dense(128, activation='relu'),\n",
    "    tf.keras.layers.Dense(64, activation='relu'),\n",
    "    tf.keras.layers.Dense(10, activation='softmax')\n",
    "])"
   ]
  },
  {
   "cell_type": "code",
   "execution_count": 10,
   "metadata": {},
   "outputs": [
    {
     "name": "stdout",
     "output_type": "stream",
     "text": [
      "Epoch 1/50\n",
      " 15/118 [==>...........................] - ETA: 0s - loss: 2.3189 - accuracy: 0.1169"
     ]
    },
    {
     "name": "stderr",
     "output_type": "stream",
     "text": [
      "2022-10-16 11:01:32.228017: I tensorflow/core/grappler/optimizers/custom_graph_optimizer_registry.cc:114] Plugin optimizer for device_type GPU is enabled.\n"
     ]
    },
    {
     "name": "stdout",
     "output_type": "stream",
     "text": [
      "118/118 [==============================] - 1s 9ms/step - loss: 2.0596 - accuracy: 0.3500\n",
      "Epoch 2/50\n",
      "118/118 [==============================] - 1s 8ms/step - loss: 1.4495 - accuracy: 0.7104\n",
      "Epoch 3/50\n",
      "118/118 [==============================] - 1s 8ms/step - loss: 0.9658 - accuracy: 0.7976\n",
      "Epoch 4/50\n",
      "118/118 [==============================] - 1s 8ms/step - loss: 0.7196 - accuracy: 0.8324\n",
      "Epoch 5/50\n",
      "118/118 [==============================] - 1s 8ms/step - loss: 0.5952 - accuracy: 0.8522\n",
      "Epoch 6/50\n",
      "118/118 [==============================] - 1s 8ms/step - loss: 0.5233 - accuracy: 0.8652\n",
      "Epoch 7/50\n",
      "118/118 [==============================] - 1s 8ms/step - loss: 0.4767 - accuracy: 0.8746\n",
      "Epoch 8/50\n",
      "118/118 [==============================] - 1s 8ms/step - loss: 0.4442 - accuracy: 0.8808\n",
      "Epoch 9/50\n",
      "118/118 [==============================] - 1s 8ms/step - loss: 0.4198 - accuracy: 0.8857\n",
      "Epoch 10/50\n",
      "118/118 [==============================] - 1s 8ms/step - loss: 0.4009 - accuracy: 0.8892\n",
      "Epoch 11/50\n",
      "118/118 [==============================] - 1s 8ms/step - loss: 0.3852 - accuracy: 0.8931\n",
      "Epoch 12/50\n",
      "118/118 [==============================] - 1s 8ms/step - loss: 0.3724 - accuracy: 0.8957\n",
      "Epoch 13/50\n",
      "118/118 [==============================] - 1s 8ms/step - loss: 0.3612 - accuracy: 0.8980\n",
      "Epoch 14/50\n",
      "118/118 [==============================] - 1s 8ms/step - loss: 0.3515 - accuracy: 0.9008\n",
      "Epoch 15/50\n",
      "118/118 [==============================] - 1s 8ms/step - loss: 0.3428 - accuracy: 0.9028\n",
      "Epoch 16/50\n",
      "118/118 [==============================] - 1s 8ms/step - loss: 0.3349 - accuracy: 0.9049\n",
      "Epoch 17/50\n",
      "118/118 [==============================] - 1s 8ms/step - loss: 0.3277 - accuracy: 0.9069\n",
      "Epoch 18/50\n",
      "118/118 [==============================] - 1s 8ms/step - loss: 0.3213 - accuracy: 0.9086\n",
      "Epoch 19/50\n",
      "118/118 [==============================] - 1s 8ms/step - loss: 0.3152 - accuracy: 0.9105\n",
      "Epoch 20/50\n",
      "118/118 [==============================] - 1s 8ms/step - loss: 0.3095 - accuracy: 0.9123\n",
      "Epoch 21/50\n",
      "118/118 [==============================] - 1s 8ms/step - loss: 0.3042 - accuracy: 0.9137\n",
      "Epoch 22/50\n",
      "118/118 [==============================] - 1s 8ms/step - loss: 0.2992 - accuracy: 0.9148\n",
      "Epoch 23/50\n",
      "118/118 [==============================] - 1s 8ms/step - loss: 0.2944 - accuracy: 0.9165\n",
      "Epoch 24/50\n",
      "118/118 [==============================] - 1s 8ms/step - loss: 0.2900 - accuracy: 0.9177\n",
      "Epoch 25/50\n",
      "118/118 [==============================] - 1s 8ms/step - loss: 0.2856 - accuracy: 0.9187\n",
      "Epoch 26/50\n",
      "118/118 [==============================] - 1s 8ms/step - loss: 0.2815 - accuracy: 0.9199\n",
      "Epoch 27/50\n",
      "118/118 [==============================] - 1s 8ms/step - loss: 0.2777 - accuracy: 0.9212\n",
      "Epoch 28/50\n",
      "118/118 [==============================] - 1s 8ms/step - loss: 0.2738 - accuracy: 0.9225\n",
      "Epoch 29/50\n",
      "118/118 [==============================] - 1s 8ms/step - loss: 0.2702 - accuracy: 0.9234\n",
      "Epoch 30/50\n",
      "118/118 [==============================] - 1s 8ms/step - loss: 0.2666 - accuracy: 0.9241\n",
      "Epoch 31/50\n",
      "118/118 [==============================] - 1s 9ms/step - loss: 0.2632 - accuracy: 0.9254\n",
      "Epoch 32/50\n",
      "118/118 [==============================] - 1s 8ms/step - loss: 0.2600 - accuracy: 0.9270\n",
      "Epoch 33/50\n",
      "118/118 [==============================] - 1s 8ms/step - loss: 0.2568 - accuracy: 0.9269\n",
      "Epoch 34/50\n",
      "118/118 [==============================] - 1s 8ms/step - loss: 0.2536 - accuracy: 0.9286\n",
      "Epoch 35/50\n",
      "118/118 [==============================] - 1s 8ms/step - loss: 0.2506 - accuracy: 0.9290\n",
      "Epoch 36/50\n",
      "118/118 [==============================] - 1s 9ms/step - loss: 0.2477 - accuracy: 0.9298\n",
      "Epoch 37/50\n",
      "118/118 [==============================] - 1s 10ms/step - loss: 0.2448 - accuracy: 0.9309\n",
      "Epoch 38/50\n",
      "118/118 [==============================] - 1s 8ms/step - loss: 0.2421 - accuracy: 0.9317\n",
      "Epoch 39/50\n",
      "118/118 [==============================] - 1s 8ms/step - loss: 0.2393 - accuracy: 0.9322\n",
      "Epoch 40/50\n",
      "118/118 [==============================] - 1s 8ms/step - loss: 0.2366 - accuracy: 0.9333\n",
      "Epoch 41/50\n",
      "118/118 [==============================] - 1s 8ms/step - loss: 0.2340 - accuracy: 0.9343\n",
      "Epoch 42/50\n",
      "118/118 [==============================] - 1s 9ms/step - loss: 0.2315 - accuracy: 0.9348\n",
      "Epoch 43/50\n",
      "118/118 [==============================] - 1s 9ms/step - loss: 0.2290 - accuracy: 0.9354\n",
      "Epoch 44/50\n",
      "118/118 [==============================] - 1s 9ms/step - loss: 0.2265 - accuracy: 0.9363\n",
      "Epoch 45/50\n",
      "118/118 [==============================] - 1s 8ms/step - loss: 0.2241 - accuracy: 0.9368\n",
      "Epoch 46/50\n",
      "118/118 [==============================] - 1s 8ms/step - loss: 0.2218 - accuracy: 0.9374\n",
      "Epoch 47/50\n",
      "118/118 [==============================] - 1s 8ms/step - loss: 0.2195 - accuracy: 0.9382\n",
      "Epoch 48/50\n",
      "118/118 [==============================] - 1s 8ms/step - loss: 0.2172 - accuracy: 0.9387\n",
      "Epoch 49/50\n",
      "118/118 [==============================] - 1s 8ms/step - loss: 0.2150 - accuracy: 0.9391\n",
      "Epoch 50/50\n",
      "118/118 [==============================] - 1s 8ms/step - loss: 0.2129 - accuracy: 0.9402\n"
     ]
    }
   ],
   "source": [
    "# Train the model\n",
    "model.compile(optimizer=tf.keras.optimizers.SGD(learning_rate=1e-2),\n",
    "              loss=tf.keras.losses.CategoricalCrossentropy(),\n",
    "              metrics=['accuracy'])\n",
    "history2_lr1en2 = model.fit(X_train, Y_train, epochs=epochs, batch_size=batch_size, shuffle=True)"
   ]
  },
  {
   "cell_type": "code",
   "execution_count": 11,
   "metadata": {},
   "outputs": [],
   "source": [
    "# Define a model\n",
    "model = tf.keras.models.Sequential([\n",
    "    tf.keras.layers.Flatten(input_shape=(28, 28)),\n",
    "    tf.keras.layers.Dense(128, activation='relu'),\n",
    "    tf.keras.layers.Dense(64, activation='relu'),\n",
    "    tf.keras.layers.Dense(10, activation='softmax')\n",
    "])"
   ]
  },
  {
   "cell_type": "code",
   "execution_count": 12,
   "metadata": {},
   "outputs": [
    {
     "name": "stdout",
     "output_type": "stream",
     "text": [
      "Epoch 1/50\n",
      "  8/118 [=>............................] - ETA: 0s - loss: 2.2202 - accuracy: 0.2466 "
     ]
    },
    {
     "name": "stderr",
     "output_type": "stream",
     "text": [
      "2022-10-16 11:02:20.142776: I tensorflow/core/grappler/optimizers/custom_graph_optimizer_registry.cc:114] Plugin optimizer for device_type GPU is enabled.\n"
     ]
    },
    {
     "name": "stdout",
     "output_type": "stream",
     "text": [
      "118/118 [==============================] - 1s 9ms/step - loss: 1.0378 - accuracy: 0.7448\n",
      "Epoch 2/50\n",
      "118/118 [==============================] - 1s 9ms/step - loss: 0.3350 - accuracy: 0.9086\n",
      "Epoch 3/50\n",
      "118/118 [==============================] - 1s 8ms/step - loss: 0.2543 - accuracy: 0.9286\n",
      "Epoch 4/50\n",
      "118/118 [==============================] - 1s 8ms/step - loss: 0.2130 - accuracy: 0.9407\n",
      "Epoch 5/50\n",
      "118/118 [==============================] - 1s 8ms/step - loss: 0.1861 - accuracy: 0.9471\n",
      "Epoch 6/50\n",
      "118/118 [==============================] - 1s 8ms/step - loss: 0.1650 - accuracy: 0.9530\n",
      "Epoch 7/50\n",
      "118/118 [==============================] - 1s 8ms/step - loss: 0.1481 - accuracy: 0.9579\n",
      "Epoch 8/50\n",
      "118/118 [==============================] - 1s 9ms/step - loss: 0.1346 - accuracy: 0.9621\n",
      "Epoch 9/50\n",
      "118/118 [==============================] - 1s 9ms/step - loss: 0.1231 - accuracy: 0.9653\n",
      "Epoch 10/50\n",
      "118/118 [==============================] - 1s 9ms/step - loss: 0.1134 - accuracy: 0.9683\n",
      "Epoch 11/50\n",
      "118/118 [==============================] - 1s 9ms/step - loss: 0.1054 - accuracy: 0.9705\n",
      "Epoch 12/50\n",
      "118/118 [==============================] - 1s 9ms/step - loss: 0.0979 - accuracy: 0.9725\n",
      "Epoch 13/50\n",
      "118/118 [==============================] - 1s 8ms/step - loss: 0.0913 - accuracy: 0.9742\n",
      "Epoch 14/50\n",
      "118/118 [==============================] - 1s 8ms/step - loss: 0.0851 - accuracy: 0.9762\n",
      "Epoch 15/50\n",
      "118/118 [==============================] - 1s 8ms/step - loss: 0.0797 - accuracy: 0.9776\n",
      "Epoch 16/50\n",
      "118/118 [==============================] - 1s 8ms/step - loss: 0.0745 - accuracy: 0.9793\n",
      "Epoch 17/50\n",
      "118/118 [==============================] - 1s 9ms/step - loss: 0.0705 - accuracy: 0.9805\n",
      "Epoch 18/50\n",
      "118/118 [==============================] - 1s 9ms/step - loss: 0.0664 - accuracy: 0.9815\n",
      "Epoch 19/50\n",
      "118/118 [==============================] - 1s 9ms/step - loss: 0.0626 - accuracy: 0.9827\n",
      "Epoch 20/50\n",
      "118/118 [==============================] - 1s 9ms/step - loss: 0.0593 - accuracy: 0.9836\n",
      "Epoch 21/50\n",
      "118/118 [==============================] - 1s 8ms/step - loss: 0.0557 - accuracy: 0.9845\n",
      "Epoch 22/50\n",
      "118/118 [==============================] - 1s 8ms/step - loss: 0.0532 - accuracy: 0.9857\n",
      "Epoch 23/50\n",
      "118/118 [==============================] - 1s 8ms/step - loss: 0.0499 - accuracy: 0.9866\n",
      "Epoch 24/50\n",
      "118/118 [==============================] - 1s 9ms/step - loss: 0.0477 - accuracy: 0.9872\n",
      "Epoch 25/50\n",
      "118/118 [==============================] - 1s 8ms/step - loss: 0.0448 - accuracy: 0.9883\n",
      "Epoch 26/50\n",
      "118/118 [==============================] - 1s 8ms/step - loss: 0.0427 - accuracy: 0.9887\n",
      "Epoch 27/50\n",
      "118/118 [==============================] - 1s 8ms/step - loss: 0.0407 - accuracy: 0.9897\n",
      "Epoch 28/50\n",
      "118/118 [==============================] - 1s 8ms/step - loss: 0.0386 - accuracy: 0.9901\n",
      "Epoch 29/50\n",
      "118/118 [==============================] - 1s 8ms/step - loss: 0.0362 - accuracy: 0.9910\n",
      "Epoch 30/50\n",
      "118/118 [==============================] - 1s 8ms/step - loss: 0.0345 - accuracy: 0.9916\n",
      "Epoch 31/50\n",
      "118/118 [==============================] - 1s 8ms/step - loss: 0.0327 - accuracy: 0.9920\n",
      "Epoch 32/50\n",
      "118/118 [==============================] - 1s 8ms/step - loss: 0.0312 - accuracy: 0.9924\n",
      "Epoch 33/50\n",
      "118/118 [==============================] - 1s 8ms/step - loss: 0.0295 - accuracy: 0.9931\n",
      "Epoch 34/50\n",
      "118/118 [==============================] - 1s 8ms/step - loss: 0.0278 - accuracy: 0.9935\n",
      "Epoch 35/50\n",
      "118/118 [==============================] - 1s 8ms/step - loss: 0.0264 - accuracy: 0.9937\n",
      "Epoch 36/50\n",
      "118/118 [==============================] - 1s 8ms/step - loss: 0.0252 - accuracy: 0.9943\n",
      "Epoch 37/50\n",
      "118/118 [==============================] - 1s 8ms/step - loss: 0.0235 - accuracy: 0.9948\n",
      "Epoch 38/50\n",
      "118/118 [==============================] - 1s 8ms/step - loss: 0.0228 - accuracy: 0.9952\n",
      "Epoch 39/50\n",
      "118/118 [==============================] - 1s 8ms/step - loss: 0.0215 - accuracy: 0.9954\n",
      "Epoch 40/50\n",
      "118/118 [==============================] - 1s 8ms/step - loss: 0.0201 - accuracy: 0.9959\n",
      "Epoch 41/50\n",
      "118/118 [==============================] - 1s 8ms/step - loss: 0.0194 - accuracy: 0.9962\n",
      "Epoch 42/50\n",
      "118/118 [==============================] - 1s 8ms/step - loss: 0.0182 - accuracy: 0.9967\n",
      "Epoch 43/50\n",
      "118/118 [==============================] - 1s 8ms/step - loss: 0.0172 - accuracy: 0.9968\n",
      "Epoch 44/50\n",
      "118/118 [==============================] - 1s 8ms/step - loss: 0.0161 - accuracy: 0.9971\n",
      "Epoch 45/50\n",
      "118/118 [==============================] - 1s 8ms/step - loss: 0.0154 - accuracy: 0.9974\n",
      "Epoch 46/50\n",
      "118/118 [==============================] - 1s 8ms/step - loss: 0.0146 - accuracy: 0.9976\n",
      "Epoch 47/50\n",
      "118/118 [==============================] - 1s 8ms/step - loss: 0.0139 - accuracy: 0.9978\n",
      "Epoch 48/50\n",
      "118/118 [==============================] - 1s 8ms/step - loss: 0.0132 - accuracy: 0.9981\n",
      "Epoch 49/50\n",
      "118/118 [==============================] - 1s 8ms/step - loss: 0.0122 - accuracy: 0.9983\n",
      "Epoch 50/50\n",
      "118/118 [==============================] - 1s 8ms/step - loss: 0.0117 - accuracy: 0.9982\n"
     ]
    }
   ],
   "source": [
    "# Train the model\n",
    "model.compile(optimizer=tf.keras.optimizers.Adam(learning_rate=3e-4),\n",
    "    loss=tf.keras.losses.CategoricalCrossentropy(),\n",
    "    metrics=['accuracy'])\n",
    "history3_adam = model.fit(X_train, Y_train, epochs=epochs, batch_size=batch_size, shuffle=True)"
   ]
  },
  {
   "cell_type": "code",
   "execution_count": 21,
   "metadata": {},
   "outputs": [],
   "source": [
    "# Define a model\n",
    "model = tf.keras.models.Sequential([\n",
    "    tf.keras.layers.Flatten(input_shape=(28, 28)),\n",
    "    tf.keras.layers.Dense(128, activation='relu'),\n",
    "    tf.keras.layers.Dense(64, activation='relu'),\n",
    "    tf.keras.layers.Dense(10, activation='softmax')\n",
    "])"
   ]
  },
  {
   "cell_type": "code",
   "execution_count": 22,
   "metadata": {},
   "outputs": [
    {
     "name": "stdout",
     "output_type": "stream",
     "text": [
      "Epoch 1/50\n",
      " 14/118 [==>...........................] - ETA: 0s - loss: 1.6341 - accuracy: 0.4805"
     ]
    },
    {
     "name": "stderr",
     "output_type": "stream",
     "text": [
      "2022-10-16 11:05:48.350941: I tensorflow/core/grappler/optimizers/custom_graph_optimizer_registry.cc:114] Plugin optimizer for device_type GPU is enabled.\n"
     ]
    },
    {
     "name": "stdout",
     "output_type": "stream",
     "text": [
      "118/118 [==============================] - 1s 8ms/step - loss: 0.5933 - accuracy: 0.8149\n",
      "Epoch 2/50\n",
      "118/118 [==============================] - 1s 8ms/step - loss: 0.1946 - accuracy: 0.9418\n",
      "Epoch 3/50\n",
      "118/118 [==============================] - 1s 8ms/step - loss: 0.1411 - accuracy: 0.9575\n",
      "Epoch 4/50\n",
      "118/118 [==============================] - 1s 8ms/step - loss: 0.1140 - accuracy: 0.9657\n",
      "Epoch 5/50\n",
      "118/118 [==============================] - 1s 8ms/step - loss: 0.0950 - accuracy: 0.9715\n",
      "Epoch 6/50\n",
      "118/118 [==============================] - 1s 9ms/step - loss: 0.0811 - accuracy: 0.9761\n",
      "Epoch 7/50\n",
      "118/118 [==============================] - 1s 8ms/step - loss: 0.0712 - accuracy: 0.9787\n",
      "Epoch 8/50\n",
      "118/118 [==============================] - 1s 8ms/step - loss: 0.0624 - accuracy: 0.9817\n",
      "Epoch 9/50\n",
      "118/118 [==============================] - 1s 8ms/step - loss: 0.0568 - accuracy: 0.9833\n",
      "Epoch 10/50\n",
      "118/118 [==============================] - 1s 9ms/step - loss: 0.0522 - accuracy: 0.9847\n",
      "Epoch 11/50\n",
      "118/118 [==============================] - 1s 8ms/step - loss: 0.0452 - accuracy: 0.9869\n",
      "Epoch 12/50\n",
      "118/118 [==============================] - 1s 8ms/step - loss: 0.0408 - accuracy: 0.9883\n",
      "Epoch 13/50\n",
      "118/118 [==============================] - 1s 8ms/step - loss: 0.0369 - accuracy: 0.9896\n",
      "Epoch 14/50\n",
      "118/118 [==============================] - 1s 8ms/step - loss: 0.0336 - accuracy: 0.9910\n",
      "Epoch 15/50\n",
      "118/118 [==============================] - 1s 8ms/step - loss: 0.0311 - accuracy: 0.9917\n",
      "Epoch 16/50\n",
      "118/118 [==============================] - 1s 8ms/step - loss: 0.0282 - accuracy: 0.9927\n",
      "Epoch 17/50\n",
      "118/118 [==============================] - 1s 8ms/step - loss: 0.0258 - accuracy: 0.9937\n",
      "Epoch 18/50\n",
      "118/118 [==============================] - 1s 8ms/step - loss: 0.0239 - accuracy: 0.9945\n",
      "Epoch 19/50\n",
      "118/118 [==============================] - 1s 8ms/step - loss: 0.0219 - accuracy: 0.9949\n",
      "Epoch 20/50\n",
      "118/118 [==============================] - 1s 8ms/step - loss: 0.0202 - accuracy: 0.9959\n",
      "Epoch 21/50\n",
      "118/118 [==============================] - 1s 8ms/step - loss: 0.0191 - accuracy: 0.9960\n",
      "Epoch 22/50\n",
      "118/118 [==============================] - 1s 8ms/step - loss: 0.0178 - accuracy: 0.9967\n",
      "Epoch 23/50\n",
      "118/118 [==============================] - 1s 8ms/step - loss: 0.0164 - accuracy: 0.9970\n",
      "Epoch 24/50\n",
      "118/118 [==============================] - 1s 8ms/step - loss: 0.0156 - accuracy: 0.9974\n",
      "Epoch 25/50\n",
      "118/118 [==============================] - 1s 8ms/step - loss: 0.0149 - accuracy: 0.9976\n",
      "Epoch 26/50\n",
      "118/118 [==============================] - 1s 8ms/step - loss: 0.0138 - accuracy: 0.9980\n",
      "Epoch 27/50\n",
      "118/118 [==============================] - 1s 8ms/step - loss: 0.0130 - accuracy: 0.9983\n",
      "Epoch 28/50\n",
      "118/118 [==============================] - 1s 8ms/step - loss: 0.0124 - accuracy: 0.9983\n",
      "Epoch 29/50\n",
      "118/118 [==============================] - 1s 8ms/step - loss: 0.0118 - accuracy: 0.9985\n",
      "Epoch 30/50\n",
      "118/118 [==============================] - 1s 8ms/step - loss: 0.0113 - accuracy: 0.9988\n",
      "Epoch 31/50\n",
      "118/118 [==============================] - 1s 8ms/step - loss: 0.0107 - accuracy: 0.9987\n",
      "Epoch 32/50\n",
      "118/118 [==============================] - 1s 9ms/step - loss: 0.0103 - accuracy: 0.9988\n",
      "Epoch 33/50\n",
      "118/118 [==============================] - 1s 8ms/step - loss: 0.0098 - accuracy: 0.9990\n",
      "Epoch 34/50\n",
      "118/118 [==============================] - 1s 8ms/step - loss: 0.0095 - accuracy: 0.9990\n",
      "Epoch 35/50\n",
      "118/118 [==============================] - 1s 8ms/step - loss: 0.0092 - accuracy: 0.9991\n",
      "Epoch 36/50\n",
      "118/118 [==============================] - 1s 8ms/step - loss: 0.0088 - accuracy: 0.9992\n",
      "Epoch 37/50\n",
      "118/118 [==============================] - 1s 8ms/step - loss: 0.0085 - accuracy: 0.9992\n",
      "Epoch 38/50\n",
      "118/118 [==============================] - 1s 8ms/step - loss: 0.0082 - accuracy: 0.9993\n",
      "Epoch 39/50\n",
      "118/118 [==============================] - 1s 8ms/step - loss: 0.0080 - accuracy: 0.9993\n",
      "Epoch 40/50\n",
      "118/118 [==============================] - 1s 8ms/step - loss: 0.0077 - accuracy: 0.9994\n",
      "Epoch 41/50\n",
      "118/118 [==============================] - 1s 8ms/step - loss: 0.0075 - accuracy: 0.9994\n",
      "Epoch 42/50\n",
      "118/118 [==============================] - 1s 8ms/step - loss: 0.0073 - accuracy: 0.9995\n",
      "Epoch 43/50\n",
      "118/118 [==============================] - 1s 8ms/step - loss: 0.0071 - accuracy: 0.9995\n",
      "Epoch 44/50\n",
      "118/118 [==============================] - 1s 8ms/step - loss: 0.0070 - accuracy: 0.9995\n",
      "Epoch 45/50\n",
      "118/118 [==============================] - 1s 8ms/step - loss: 0.0067 - accuracy: 0.9996\n",
      "Epoch 46/50\n",
      "118/118 [==============================] - 1s 8ms/step - loss: 0.0066 - accuracy: 0.9995\n",
      "Epoch 47/50\n",
      "118/118 [==============================] - 1s 8ms/step - loss: 0.0065 - accuracy: 0.9996\n",
      "Epoch 48/50\n",
      "118/118 [==============================] - 1s 8ms/step - loss: 0.0064 - accuracy: 0.9996\n",
      "Epoch 49/50\n",
      "118/118 [==============================] - 1s 8ms/step - loss: 0.0063 - accuracy: 0.9996\n",
      "Epoch 50/50\n",
      "118/118 [==============================] - 1s 8ms/step - loss: 0.0061 - accuracy: 0.9997\n"
     ]
    }
   ],
   "source": [
    "# Train the model\n",
    "lr_schedule = tf.keras.optimizers.schedules.ExponentialDecay(\n",
    "        5e-1, \n",
    "        decay_steps=100,\n",
    "        decay_rate=0.97\n",
    "    )\n",
    "model.compile(optimizer=tf.keras.optimizers.SGD(learning_rate=lr_schedule),\n",
    "    loss=tf.keras.losses.CategoricalCrossentropy(),\n",
    "    metrics=['accuracy'])\n",
    "history4_decay = model.fit(X_train, Y_train, epochs=epochs, batch_size=batch_size, shuffle=True)"
   ]
  },
  {
   "cell_type": "code",
   "execution_count": 14,
   "metadata": {},
   "outputs": [],
   "source": [
    "# Define a model\n",
    "model = tf.keras.models.Sequential([\n",
    "    tf.keras.layers.Flatten(input_shape=(28, 28)),\n",
    "    tf.keras.layers.Dense(128, activation='relu'),\n",
    "    tf.keras.layers.Dense(64, activation='relu'),\n",
    "    tf.keras.layers.Dense(10, activation='softmax')\n",
    "])"
   ]
  },
  {
   "cell_type": "code",
   "execution_count": 15,
   "metadata": {},
   "outputs": [
    {
     "name": "stdout",
     "output_type": "stream",
     "text": [
      "Epoch 1/50\n",
      "  7/118 [>.............................] - ETA: 1s - loss: 2.1049 - accuracy: 0.3418 "
     ]
    },
    {
     "name": "stderr",
     "output_type": "stream",
     "text": [
      "2022-10-16 11:03:57.074252: I tensorflow/core/grappler/optimizers/custom_graph_optimizer_registry.cc:114] Plugin optimizer for device_type GPU is enabled.\n"
     ]
    },
    {
     "name": "stdout",
     "output_type": "stream",
     "text": [
      "118/118 [==============================] - 1s 9ms/step - loss: 0.8928 - accuracy: 0.7918\n",
      "Epoch 2/50\n",
      "118/118 [==============================] - 1s 10ms/step - loss: 0.3276 - accuracy: 0.9111\n",
      "Epoch 3/50\n",
      "118/118 [==============================] - 1s 9ms/step - loss: 0.2529 - accuracy: 0.9286\n",
      "Epoch 4/50\n",
      "118/118 [==============================] - 1s 9ms/step - loss: 0.2141 - accuracy: 0.9398\n",
      "Epoch 5/50\n",
      "118/118 [==============================] - 1s 9ms/step - loss: 0.1875 - accuracy: 0.9466\n",
      "Epoch 6/50\n",
      "118/118 [==============================] - 1s 9ms/step - loss: 0.1670 - accuracy: 0.9529\n",
      "Epoch 7/50\n",
      "118/118 [==============================] - 1s 9ms/step - loss: 0.1503 - accuracy: 0.9574\n",
      "Epoch 8/50\n",
      "118/118 [==============================] - 1s 9ms/step - loss: 0.1370 - accuracy: 0.9615\n",
      "Epoch 9/50\n",
      "118/118 [==============================] - 1s 9ms/step - loss: 0.1259 - accuracy: 0.9643\n",
      "Epoch 10/50\n",
      "118/118 [==============================] - 1s 9ms/step - loss: 0.1156 - accuracy: 0.9677\n",
      "Epoch 11/50\n",
      "118/118 [==============================] - 1s 9ms/step - loss: 0.1072 - accuracy: 0.9691\n",
      "Epoch 12/50\n",
      "118/118 [==============================] - 1s 9ms/step - loss: 0.0992 - accuracy: 0.9714\n",
      "Epoch 13/50\n",
      "118/118 [==============================] - 1s 9ms/step - loss: 0.0922 - accuracy: 0.9741\n",
      "Epoch 14/50\n",
      "118/118 [==============================] - 1s 9ms/step - loss: 0.0856 - accuracy: 0.9752\n",
      "Epoch 15/50\n",
      "118/118 [==============================] - 1s 9ms/step - loss: 0.0801 - accuracy: 0.9767\n",
      "Epoch 16/50\n",
      "118/118 [==============================] - 1s 9ms/step - loss: 0.0750 - accuracy: 0.9787\n",
      "Epoch 17/50\n",
      "118/118 [==============================] - 1s 9ms/step - loss: 0.0699 - accuracy: 0.9803\n",
      "Epoch 18/50\n",
      "118/118 [==============================] - 1s 9ms/step - loss: 0.0659 - accuracy: 0.9809\n",
      "Epoch 19/50\n",
      "118/118 [==============================] - 1s 9ms/step - loss: 0.0618 - accuracy: 0.9823\n",
      "Epoch 20/50\n",
      "118/118 [==============================] - 1s 9ms/step - loss: 0.0583 - accuracy: 0.9838\n",
      "Epoch 21/50\n",
      "118/118 [==============================] - 1s 9ms/step - loss: 0.0549 - accuracy: 0.9843\n",
      "Epoch 22/50\n",
      "118/118 [==============================] - 1s 9ms/step - loss: 0.0519 - accuracy: 0.9853\n",
      "Epoch 23/50\n",
      "118/118 [==============================] - 1s 9ms/step - loss: 0.0491 - accuracy: 0.9861\n",
      "Epoch 24/50\n",
      "118/118 [==============================] - 1s 9ms/step - loss: 0.0462 - accuracy: 0.9870\n",
      "Epoch 25/50\n",
      "118/118 [==============================] - 1s 9ms/step - loss: 0.0437 - accuracy: 0.9880\n",
      "Epoch 26/50\n",
      "118/118 [==============================] - 1s 9ms/step - loss: 0.0416 - accuracy: 0.9886\n",
      "Epoch 27/50\n",
      "118/118 [==============================] - 1s 9ms/step - loss: 0.0392 - accuracy: 0.9891\n",
      "Epoch 28/50\n",
      "118/118 [==============================] - 1s 9ms/step - loss: 0.0371 - accuracy: 0.9898\n",
      "Epoch 29/50\n",
      "118/118 [==============================] - 1s 9ms/step - loss: 0.0351 - accuracy: 0.9906\n",
      "Epoch 30/50\n",
      "118/118 [==============================] - 1s 9ms/step - loss: 0.0330 - accuracy: 0.9913\n",
      "Epoch 31/50\n",
      "118/118 [==============================] - 1s 10ms/step - loss: 0.0313 - accuracy: 0.9917\n",
      "Epoch 32/50\n",
      "118/118 [==============================] - 1s 10ms/step - loss: 0.0296 - accuracy: 0.9926\n",
      "Epoch 33/50\n",
      "118/118 [==============================] - 1s 9ms/step - loss: 0.0284 - accuracy: 0.9929\n",
      "Epoch 34/50\n",
      "118/118 [==============================] - 1s 10ms/step - loss: 0.0267 - accuracy: 0.9934\n",
      "Epoch 35/50\n",
      "118/118 [==============================] - 1s 10ms/step - loss: 0.0254 - accuracy: 0.9938\n",
      "Epoch 36/50\n",
      "118/118 [==============================] - 1s 10ms/step - loss: 0.0240 - accuracy: 0.9941\n",
      "Epoch 37/50\n",
      "118/118 [==============================] - 1s 9ms/step - loss: 0.0226 - accuracy: 0.9944\n",
      "Epoch 38/50\n",
      "118/118 [==============================] - 1s 9ms/step - loss: 0.0215 - accuracy: 0.9951\n",
      "Epoch 39/50\n",
      "118/118 [==============================] - 1s 9ms/step - loss: 0.0202 - accuracy: 0.9954\n",
      "Epoch 40/50\n",
      "118/118 [==============================] - 1s 9ms/step - loss: 0.0193 - accuracy: 0.9956\n",
      "Epoch 41/50\n",
      "118/118 [==============================] - 1s 9ms/step - loss: 0.0183 - accuracy: 0.9959\n",
      "Epoch 42/50\n",
      "118/118 [==============================] - 1s 9ms/step - loss: 0.0172 - accuracy: 0.9962\n",
      "Epoch 43/50\n",
      "118/118 [==============================] - 1s 9ms/step - loss: 0.0164 - accuracy: 0.9967\n",
      "Epoch 44/50\n",
      "118/118 [==============================] - 1s 9ms/step - loss: 0.0153 - accuracy: 0.9968\n",
      "Epoch 45/50\n",
      "118/118 [==============================] - 1s 9ms/step - loss: 0.0148 - accuracy: 0.9970\n",
      "Epoch 46/50\n",
      "118/118 [==============================] - 1s 9ms/step - loss: 0.0137 - accuracy: 0.9974\n",
      "Epoch 47/50\n",
      "118/118 [==============================] - 1s 9ms/step - loss: 0.0128 - accuracy: 0.9977\n",
      "Epoch 48/50\n",
      "118/118 [==============================] - 1s 9ms/step - loss: 0.0120 - accuracy: 0.9978\n",
      "Epoch 49/50\n",
      "118/118 [==============================] - 1s 10ms/step - loss: 0.0117 - accuracy: 0.9979\n",
      "Epoch 50/50\n",
      "118/118 [==============================] - 1s 9ms/step - loss: 0.0108 - accuracy: 0.9980\n"
     ]
    }
   ],
   "source": [
    "# Train the model\n",
    "model.compile(optimizer=tf.keras.optimizers.RMSprop(learning_rate=3e-4),\n",
    "    loss=tf.keras.losses.CategoricalCrossentropy(),\n",
    "    metrics=['accuracy'])\n",
    "history5_rmsprop = model.fit(X_train, Y_train, epochs=epochs, batch_size=batch_size, shuffle=True)"
   ]
  },
  {
   "cell_type": "code",
   "execution_count": 24,
   "metadata": {},
   "outputs": [],
   "source": [
    "loss0_lr1e0     = history0_lr1e0.history['loss']\n",
    "loss1_lr1en1    = history1_lr1en1.history['loss']\n",
    "loss2_lr1en2    = history2_lr1en2.history['loss']\n",
    "loss3_adam      = history3_adam.history['loss']\n",
    "loss4_decay     = history4_decay.history['loss']\n",
    "loss5_rmsprop   = history5_rmsprop.history['loss']"
   ]
  },
  {
   "cell_type": "code",
   "execution_count": 29,
   "metadata": {},
   "outputs": [
    {
     "data": {
      "image/png": "[encoded data removed]",
      "text/plain": [
       "<Figure size 640x480 with 1 Axes>"
      ]
     },
     "metadata": {},
     "output_type": "display_data"
    }
   ],
   "source": [
    "plt.plot(loss0_lr1e0)\n",
    "plt.plot(loss1_lr1en1)\n",
    "plt.plot(loss2_lr1en2)\n",
    "plt.legend(['SGD(lr=0.5)', 'SGD(lr=0.1)', 'SGD(lr=0.01)'])\n",
    "plt.xlabel('epoch')\n",
    "plt.ylabel('loss')\n",
    "# plt.show()\n",
    "plt.savefig('sgd_learning_rate_v2.pdf', bbox_inches='tight')"
   ]
  },
  {
   "cell_type": "code",
   "execution_count": 26,
   "metadata": {},
   "outputs": [
    {
     "data": {
      "image/png": "[encoded data removed]",
      "text/plain": [
       "<Figure size 640x480 with 1 Axes>"
      ]
     },
     "metadata": {},
     "output_type": "display_data"
    }
   ],
   "source": [
    "plt.plot(loss1_lr1en1)\n",
    "plt.plot(loss4_decay)\n",
    "plt.legend(['SGD(lr=0.1)', 'Exponential Decay'])\n",
    "plt.xlabel('epoch')\n",
    "plt.ylabel('loss')\n",
    "# plt.show()\n",
    "plt.savefig('sgd_decay_v2.pdf', bbox_inches='tight')"
   ]
  },
  {
   "cell_type": "code",
   "execution_count": 28,
   "metadata": {},
   "outputs": [
    {
     "data": {
      "image/png": "[encoded data removed]",
      "text/plain": [
       "<Figure size 640x480 with 1 Axes>"
      ]
     },
     "metadata": {},
     "output_type": "display_data"
    }
   ],
   "source": [
    "plt.plot(loss1_lr1en1)\n",
    "plt.plot(loss3_adam)\n",
    "plt.plot(loss5_rmsprop)\n",
    "plt.plot(loss4_decay)\n",
    "plt.legend(['SGD(lr=0.1)', 'Adam', 'RMSProp', 'Exponential Decay'])\n",
    "plt.xlabel('epoch')\n",
    "plt.ylabel('loss')\n",
    "# plt.show()\n",
    "plt.savefig('sgd_adam_rmsprop_v2.pdf', bbox_inches='tight')"
   ]
  }
 ],
 "metadata": {
  "accelerator": "GPU",
  "colab": {
   "name": "css324s20_deep_mnist.ipynb",
   "provenance": []
  },
  "kernelspec": {
   "display_name": "Python 3.10.6 ('tf')",
   "language": "python",
   "name": "python3"
  },
  "language_info": {
   "codemirror_mode": {
    "name": "ipython",
    "version": 3
   },
   "file_extension": ".py",
   "mimetype": "text/x-python",
   "name": "python",
   "nbconvert_exporter": "python",
   "pygments_lexer": "ipython3",
   "version": "3.10.6"
  },
  "vscode": {
   "interpreter": {
    "hash": "52ee2977380704a66854748a73250e0671a9318bd5b3fd45a3df9f851ae61629"
   }
  }
 },
 "nbformat": 4,
 "nbformat_minor": 1
}
