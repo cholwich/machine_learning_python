{
 "cells": [
  {
   "cell_type": "code",
   "execution_count": 1,
   "metadata": {
    "id": "OPdpBZ0h17y4"
   },
   "outputs": [],
   "source": [
    "import tensorflow as tf\n",
    "import numpy as np\n",
    "import matplotlib.pyplot as plt\n",
    "\n",
    "np.set_printoptions(linewidth=500, precision=1, suppress=True, floatmode='fixed')"
   ]
  },
  {
   "cell_type": "code",
   "execution_count": 2,
   "metadata": {
    "colab": {
     "base_uri": "https://localhost:8080/"
    },
    "id": "ABOBGXte4ibR",
    "outputId": "47136222-55b0-4050-fe8f-a395dc778569"
   },
   "outputs": [
    {
     "name": "stdout",
     "output_type": "stream",
     "text": [
      "Shape of x_train = (60000, 28, 28)\n",
      "Shape of y_train = (60000,)\n",
      "Shape of x_test  = (10000, 28, 28)\n",
      "Shape of y_test  = (10000,)\n"
     ]
    }
   ],
   "source": [
    "# Load the dataset\n",
    "(x_train, y_train), (x_test, y_test) = tf.keras.datasets.mnist.load_data()\n",
    "\n",
    "# Display dataset info\n",
    "print(\"Shape of x_train =\", x_train.shape)\n",
    "print(\"Shape of y_train =\", y_train.shape)\n",
    "print(\"Shape of x_test  =\", x_test.shape)\n",
    "print(\"Shape of y_test  =\", y_test.shape)"
   ]
  },
  {
   "cell_type": "code",
   "execution_count": 3,
   "metadata": {},
   "outputs": [
    {
     "name": "stdout",
     "output_type": "stream",
     "text": [
      "Input:\n",
      "[[  0   0   0   0   0   0   0   0   0   0   0   0   0   0   0   0   0   0   0   0   0   0   0   0   0   0   0   0]\n",
      " [  0   0   0   0   0   0   0   0   0   0   0   0   0   0   0   0   0   0   0   0   0   0   0   0   0   0   0   0]\n",
      " [  0   0   0   0   0   0   0   0   0   0   0   0   0   0   0   0   0   0   0   0   0   0   0   0   0   0   0   0]\n",
      " [  0   0   0   0   0   0   0   0   0   0   0   0   0   0   0   0   0   0   0   0   0   0   0   0   0   0   0   0]\n",
      " [  0   0   0   0   0   0   0   0   0   0   0   0   0   0   0   0   0   0   0   0   0   0   0   0   0   0   0   0]\n",
      " [  0   0   0   0   0   0   0   0   0   0   0   0   3  18  18  18 126 136 175  26 166 255 247 127   0   0   0   0]\n",
      " [  0   0   0   0   0   0   0   0  30  36  94 154 170 253 253 253 253 253 225 172 253 242 195  64   0   0   0   0]\n",
      " [  0   0   0   0   0   0   0  49 238 253 253 253 253 253 253 253 253 251  93  82  82  56  39   0   0   0   0   0]\n",
      " [  0   0   0   0   0   0   0  18 219 253 253 253 253 253 198 182 247 241   0   0   0   0   0   0   0   0   0   0]\n",
      " [  0   0   0   0   0   0   0   0  80 156 107 253 253 205  11   0  43 154   0   0   0   0   0   0   0   0   0   0]\n",
      " [  0   0   0   0   0   0   0   0   0  14   1 154 253  90   0   0   0   0   0   0   0   0   0   0   0   0   0   0]\n",
      " [  0   0   0   0   0   0   0   0   0   0   0 139 253 190   2   0   0   0   0   0   0   0   0   0   0   0   0   0]\n",
      " [  0   0   0   0   0   0   0   0   0   0   0  11 190 253  70   0   0   0   0   0   0   0   0   0   0   0   0   0]\n",
      " [  0   0   0   0   0   0   0   0   0   0   0   0  35 241 225 160 108   1   0   0   0   0   0   0   0   0   0   0]\n",
      " [  0   0   0   0   0   0   0   0   0   0   0   0   0  81 240 253 253 119  25   0   0   0   0   0   0   0   0   0]\n",
      " [  0   0   0   0   0   0   0   0   0   0   0   0   0   0  45 186 253 253 150  27   0   0   0   0   0   0   0   0]\n",
      " [  0   0   0   0   0   0   0   0   0   0   0   0   0   0   0  16  93 252 253 187   0   0   0   0   0   0   0   0]\n",
      " [  0   0   0   0   0   0   0   0   0   0   0   0   0   0   0   0   0 249 253 249  64   0   0   0   0   0   0   0]\n",
      " [  0   0   0   0   0   0   0   0   0   0   0   0   0   0  46 130 183 253 253 207   2   0   0   0   0   0   0   0]\n",
      " [  0   0   0   0   0   0   0   0   0   0   0   0  39 148 229 253 253 253 250 182   0   0   0   0   0   0   0   0]\n",
      " [  0   0   0   0   0   0   0   0   0   0  24 114 221 253 253 253 253 201  78   0   0   0   0   0   0   0   0   0]\n",
      " [  0   0   0   0   0   0   0   0  23  66 213 253 253 253 253 198  81   2   0   0   0   0   0   0   0   0   0   0]\n",
      " [  0   0   0   0   0   0  18 171 219 253 253 253 253 195  80   9   0   0   0   0   0   0   0   0   0   0   0   0]\n",
      " [  0   0   0   0  55 172 226 253 253 253 253 244 133  11   0   0   0   0   0   0   0   0   0   0   0   0   0   0]\n",
      " [  0   0   0   0 136 253 253 253 212 135 132  16   0   0   0   0   0   0   0   0   0   0   0   0   0   0   0   0]\n",
      " [  0   0   0   0   0   0   0   0   0   0   0   0   0   0   0   0   0   0   0   0   0   0   0   0   0   0   0   0]\n",
      " [  0   0   0   0   0   0   0   0   0   0   0   0   0   0   0   0   0   0   0   0   0   0   0   0   0   0   0   0]\n",
      " [  0   0   0   0   0   0   0   0   0   0   0   0   0   0   0   0   0   0   0   0   0   0   0   0   0   0   0   0]]\n",
      "Output\n",
      "5\n"
     ]
    }
   ],
   "source": [
    "# Display an example\n",
    "print(\"Input:\")\n",
    "print(x_train[0, :, :])\n",
    "print(\"Output\")\n",
    "print(y_train[0])"
   ]
  },
  {
   "cell_type": "code",
   "execution_count": 4,
   "metadata": {},
   "outputs": [
    {
     "data": {
      "text/plain": [
       "<matplotlib.image.AxesImage at 0x284299cf0>"
      ]
     },
     "execution_count": 4,
     "metadata": {},
     "output_type": "execute_result"
    },
    {
     "data": {
      "image/png": "[encoded data removed]",
      "text/plain": [
       "<Figure size 640x480 with 1 Axes>"
      ]
     },
     "metadata": {},
     "output_type": "display_data"
    }
   ],
   "source": [
    "# Plot an example\n",
    "plt.imshow(x_train[0, :, :], cmap='gray')"
   ]
  },
  {
   "cell_type": "code",
   "execution_count": 5,
   "metadata": {
    "colab": {
     "base_uri": "https://localhost:8080/"
    },
    "id": "dZKqrMYD6_kb",
    "outputId": "64847474-503a-4260-8ba8-b3c3a50e35a8"
   },
   "outputs": [
    {
     "name": "stdout",
     "output_type": "stream",
     "text": [
      "Metal device set to: Apple M1 Max\n",
      "\n",
      "systemMemory: 64.00 GB\n",
      "maxCacheSize: 24.00 GB\n",
      "\n"
     ]
    },
    {
     "name": "stderr",
     "output_type": "stream",
     "text": [
      "2022-10-19 15:19:30.212179: I tensorflow/core/common_runtime/pluggable_device/pluggable_device_factory.cc:306] Could not identify NUMA node of platform GPU ID 0, defaulting to 0. Your kernel may not have been built with NUMA support.\n",
      "2022-10-19 15:19:30.212372: I tensorflow/core/common_runtime/pluggable_device/pluggable_device_factory.cc:272] Created TensorFlow device (/job:localhost/replica:0/task:0/device:GPU:0 with 0 MB memory) -> physical PluggableDevice (device: 0, name: METAL, pci bus id: <undefined>)\n"
     ]
    }
   ],
   "source": [
    "# Preprocess\n",
    "\n",
    "# Normalize input vectors\n",
    "# [0, 255] --> [0.0, 1.0]   (x - x_min)/(x_max - x_min)  ==> x_min = 0, x_max = 255\n",
    "X_train = x_train / 255    \n",
    "X_test = x_test / 255\n",
    "\n",
    "# Encode target outputs using one-hot encoding\n",
    "Y_train = tf.one_hot(y_train, 10)\n",
    "Y_test = tf.one_hot(y_test, 10)"
   ]
  },
  {
   "cell_type": "code",
   "execution_count": 6,
   "metadata": {},
   "outputs": [
    {
     "name": "stdout",
     "output_type": "stream",
     "text": [
      "[[0.0 0.0 0.0 0.0 0.0 0.0 0.0 0.0 0.0 0.0 0.0 0.0 0.0 0.0 0.0 0.0 0.0 0.0 0.0 0.0 0.0 0.0 0.0 0.0 0.0 0.0 0.0 0.0]\n",
      " [0.0 0.0 0.0 0.0 0.0 0.0 0.0 0.0 0.0 0.0 0.0 0.0 0.0 0.0 0.0 0.0 0.0 0.0 0.0 0.0 0.0 0.0 0.0 0.0 0.0 0.0 0.0 0.0]\n",
      " [0.0 0.0 0.0 0.0 0.0 0.0 0.0 0.0 0.0 0.0 0.0 0.0 0.0 0.0 0.0 0.0 0.0 0.0 0.0 0.0 0.0 0.0 0.0 0.0 0.0 0.0 0.0 0.0]\n",
      " [0.0 0.0 0.0 0.0 0.0 0.0 0.0 0.0 0.0 0.0 0.0 0.0 0.0 0.0 0.0 0.0 0.0 0.0 0.0 0.0 0.0 0.0 0.0 0.0 0.0 0.0 0.0 0.0]\n",
      " [0.0 0.0 0.0 0.0 0.0 0.0 0.0 0.0 0.0 0.0 0.0 0.0 0.0 0.0 0.0 0.0 0.0 0.0 0.0 0.0 0.0 0.0 0.0 0.0 0.0 0.0 0.0 0.0]\n",
      " [0.0 0.0 0.0 0.0 0.0 0.0 0.0 0.0 0.0 0.0 0.0 0.0 0.0 0.1 0.1 0.1 0.5 0.5 0.7 0.1 0.7 1.0 1.0 0.5 0.0 0.0 0.0 0.0]\n",
      " [0.0 0.0 0.0 0.0 0.0 0.0 0.0 0.0 0.1 0.1 0.4 0.6 0.7 1.0 1.0 1.0 1.0 1.0 0.9 0.7 1.0 0.9 0.8 0.3 0.0 0.0 0.0 0.0]\n",
      " [0.0 0.0 0.0 0.0 0.0 0.0 0.0 0.2 0.9 1.0 1.0 1.0 1.0 1.0 1.0 1.0 1.0 1.0 0.4 0.3 0.3 0.2 0.2 0.0 0.0 0.0 0.0 0.0]\n",
      " [0.0 0.0 0.0 0.0 0.0 0.0 0.0 0.1 0.9 1.0 1.0 1.0 1.0 1.0 0.8 0.7 1.0 0.9 0.0 0.0 0.0 0.0 0.0 0.0 0.0 0.0 0.0 0.0]\n",
      " [0.0 0.0 0.0 0.0 0.0 0.0 0.0 0.0 0.3 0.6 0.4 1.0 1.0 0.8 0.0 0.0 0.2 0.6 0.0 0.0 0.0 0.0 0.0 0.0 0.0 0.0 0.0 0.0]\n",
      " [0.0 0.0 0.0 0.0 0.0 0.0 0.0 0.0 0.0 0.1 0.0 0.6 1.0 0.4 0.0 0.0 0.0 0.0 0.0 0.0 0.0 0.0 0.0 0.0 0.0 0.0 0.0 0.0]\n",
      " [0.0 0.0 0.0 0.0 0.0 0.0 0.0 0.0 0.0 0.0 0.0 0.5 1.0 0.7 0.0 0.0 0.0 0.0 0.0 0.0 0.0 0.0 0.0 0.0 0.0 0.0 0.0 0.0]\n",
      " [0.0 0.0 0.0 0.0 0.0 0.0 0.0 0.0 0.0 0.0 0.0 0.0 0.7 1.0 0.3 0.0 0.0 0.0 0.0 0.0 0.0 0.0 0.0 0.0 0.0 0.0 0.0 0.0]\n",
      " [0.0 0.0 0.0 0.0 0.0 0.0 0.0 0.0 0.0 0.0 0.0 0.0 0.1 0.9 0.9 0.6 0.4 0.0 0.0 0.0 0.0 0.0 0.0 0.0 0.0 0.0 0.0 0.0]\n",
      " [0.0 0.0 0.0 0.0 0.0 0.0 0.0 0.0 0.0 0.0 0.0 0.0 0.0 0.3 0.9 1.0 1.0 0.5 0.1 0.0 0.0 0.0 0.0 0.0 0.0 0.0 0.0 0.0]\n",
      " [0.0 0.0 0.0 0.0 0.0 0.0 0.0 0.0 0.0 0.0 0.0 0.0 0.0 0.0 0.2 0.7 1.0 1.0 0.6 0.1 0.0 0.0 0.0 0.0 0.0 0.0 0.0 0.0]\n",
      " [0.0 0.0 0.0 0.0 0.0 0.0 0.0 0.0 0.0 0.0 0.0 0.0 0.0 0.0 0.0 0.1 0.4 1.0 1.0 0.7 0.0 0.0 0.0 0.0 0.0 0.0 0.0 0.0]\n",
      " [0.0 0.0 0.0 0.0 0.0 0.0 0.0 0.0 0.0 0.0 0.0 0.0 0.0 0.0 0.0 0.0 0.0 1.0 1.0 1.0 0.3 0.0 0.0 0.0 0.0 0.0 0.0 0.0]\n",
      " [0.0 0.0 0.0 0.0 0.0 0.0 0.0 0.0 0.0 0.0 0.0 0.0 0.0 0.0 0.2 0.5 0.7 1.0 1.0 0.8 0.0 0.0 0.0 0.0 0.0 0.0 0.0 0.0]\n",
      " [0.0 0.0 0.0 0.0 0.0 0.0 0.0 0.0 0.0 0.0 0.0 0.0 0.2 0.6 0.9 1.0 1.0 1.0 1.0 0.7 0.0 0.0 0.0 0.0 0.0 0.0 0.0 0.0]\n",
      " [0.0 0.0 0.0 0.0 0.0 0.0 0.0 0.0 0.0 0.0 0.1 0.4 0.9 1.0 1.0 1.0 1.0 0.8 0.3 0.0 0.0 0.0 0.0 0.0 0.0 0.0 0.0 0.0]\n",
      " [0.0 0.0 0.0 0.0 0.0 0.0 0.0 0.0 0.1 0.3 0.8 1.0 1.0 1.0 1.0 0.8 0.3 0.0 0.0 0.0 0.0 0.0 0.0 0.0 0.0 0.0 0.0 0.0]\n",
      " [0.0 0.0 0.0 0.0 0.0 0.0 0.1 0.7 0.9 1.0 1.0 1.0 1.0 0.8 0.3 0.0 0.0 0.0 0.0 0.0 0.0 0.0 0.0 0.0 0.0 0.0 0.0 0.0]\n",
      " [0.0 0.0 0.0 0.0 0.2 0.7 0.9 1.0 1.0 1.0 1.0 1.0 0.5 0.0 0.0 0.0 0.0 0.0 0.0 0.0 0.0 0.0 0.0 0.0 0.0 0.0 0.0 0.0]\n",
      " [0.0 0.0 0.0 0.0 0.5 1.0 1.0 1.0 0.8 0.5 0.5 0.1 0.0 0.0 0.0 0.0 0.0 0.0 0.0 0.0 0.0 0.0 0.0 0.0 0.0 0.0 0.0 0.0]\n",
      " [0.0 0.0 0.0 0.0 0.0 0.0 0.0 0.0 0.0 0.0 0.0 0.0 0.0 0.0 0.0 0.0 0.0 0.0 0.0 0.0 0.0 0.0 0.0 0.0 0.0 0.0 0.0 0.0]\n",
      " [0.0 0.0 0.0 0.0 0.0 0.0 0.0 0.0 0.0 0.0 0.0 0.0 0.0 0.0 0.0 0.0 0.0 0.0 0.0 0.0 0.0 0.0 0.0 0.0 0.0 0.0 0.0 0.0]\n",
      " [0.0 0.0 0.0 0.0 0.0 0.0 0.0 0.0 0.0 0.0 0.0 0.0 0.0 0.0 0.0 0.0 0.0 0.0 0.0 0.0 0.0 0.0 0.0 0.0 0.0 0.0 0.0 0.0]]\n"
     ]
    }
   ],
   "source": [
    "# Display the preprocessed input\n",
    "print(X_train[0, :, :])"
   ]
  },
  {
   "cell_type": "code",
   "execution_count": 7,
   "metadata": {},
   "outputs": [
    {
     "name": "stdout",
     "output_type": "stream",
     "text": [
      "Output           = 5\n",
      "Output (one-hot) = tf.Tensor([0.0 0.0 0.0 0.0 0.0 1.0 0.0 0.0 0.0 0.0], shape=(10,), dtype=float32)\n"
     ]
    }
   ],
   "source": [
    "# Display the output in the one-host encoding\n",
    "print(\"Output           =\", y_train[0])\n",
    "print(\"Output (one-hot) =\", Y_train[0, :])"
   ]
  },
  {
   "cell_type": "code",
   "execution_count": 8,
   "metadata": {
    "colab": {
     "base_uri": "https://localhost:8080/"
    },
    "id": "aywc6UlV_LY5",
    "outputId": "6a1ec06c-be63-468f-ff35-17c4741d6214"
   },
   "outputs": [
    {
     "name": "stdout",
     "output_type": "stream",
     "text": [
      "Model: \"sequential\"\n",
      "_________________________________________________________________\n",
      " Layer (type)                Output Shape              Param #   \n",
      "=================================================================\n",
      " flatten (Flatten)           (None, 784)               0         \n",
      "                                                                 \n",
      " dense (Dense)               (None, 128)               100480    \n",
      "                                                                 \n",
      " dense_1 (Dense)             (None, 64)                8256      \n",
      "                                                                 \n",
      " dense_2 (Dense)             (None, 10)                650       \n",
      "                                                                 \n",
      "=================================================================\n",
      "Total params: 109,386\n",
      "Trainable params: 109,386\n",
      "Non-trainable params: 0\n",
      "_________________________________________________________________\n"
     ]
    }
   ],
   "source": [
    "# Define a model\n",
    "model = tf.keras.models.Sequential([\n",
    "    tf.keras.layers.Flatten(input_shape=(28, 28)),\n",
    "    tf.keras.layers.Dense(128, activation='relu'),\n",
    "    tf.keras.layers.Dense(64, activation='relu'),\n",
    "    tf.keras.layers.Dense(10, activation='softmax')\n",
    "])\n",
    "\n",
    "model.compile(optimizer=tf.keras.optimizers.SGD(learning_rate=1e-2),\n",
    "              loss=tf.keras.losses.CategoricalCrossentropy(),\n",
    "              metrics=['accuracy'])\n",
    "\n",
    "# Display the model\n",
    "model.summary()"
   ]
  },
  {
   "cell_type": "code",
   "execution_count": 12,
   "metadata": {
    "colab": {
     "base_uri": "https://localhost:8080/"
    },
    "id": "xVYu-xgyAcpY",
    "outputId": "0e253c8c-af18-4787-e2cf-93b9337569da"
   },
   "outputs": [
    {
     "name": "stdout",
     "output_type": "stream",
     "text": [
      "Epoch 1/100\n",
      "59/59 [==============================] - 1s 8ms/step - loss: 0.5091 - accuracy: 0.8641\n",
      "Epoch 2/100\n",
      "59/59 [==============================] - 0s 8ms/step - loss: 0.4853 - accuracy: 0.8693\n",
      "Epoch 3/100\n",
      "59/59 [==============================] - 0s 8ms/step - loss: 0.4655 - accuracy: 0.8738\n",
      "Epoch 4/100\n",
      "59/59 [==============================] - 1s 9ms/step - loss: 0.4486 - accuracy: 0.8775\n",
      "Epoch 5/100\n",
      "59/59 [==============================] - 0s 8ms/step - loss: 0.4340 - accuracy: 0.8812\n",
      "Epoch 6/100\n",
      "59/59 [==============================] - 0s 8ms/step - loss: 0.4214 - accuracy: 0.8843\n",
      "Epoch 7/100\n",
      "59/59 [==============================] - 1s 9ms/step - loss: 0.4102 - accuracy: 0.8868\n",
      "Epoch 8/100\n",
      "59/59 [==============================] - 0s 8ms/step - loss: 0.4003 - accuracy: 0.8889\n",
      "Epoch 9/100\n",
      "59/59 [==============================] - 0s 8ms/step - loss: 0.3915 - accuracy: 0.8911\n",
      "Epoch 10/100\n",
      "59/59 [==============================] - 0s 8ms/step - loss: 0.3835 - accuracy: 0.8929\n",
      "Epoch 11/100\n",
      "59/59 [==============================] - 1s 9ms/step - loss: 0.3762 - accuracy: 0.8947\n",
      "Epoch 12/100\n",
      "59/59 [==============================] - 0s 8ms/step - loss: 0.3695 - accuracy: 0.8963\n",
      "Epoch 13/100\n",
      "59/59 [==============================] - 0s 8ms/step - loss: 0.3634 - accuracy: 0.8979\n",
      "Epoch 14/100\n",
      "59/59 [==============================] - 0s 8ms/step - loss: 0.3577 - accuracy: 0.8996\n",
      "Epoch 15/100\n",
      "59/59 [==============================] - 0s 8ms/step - loss: 0.3524 - accuracy: 0.9006\n",
      "Epoch 16/100\n",
      "59/59 [==============================] - 0s 8ms/step - loss: 0.3475 - accuracy: 0.9019\n",
      "Epoch 17/100\n",
      "59/59 [==============================] - 0s 8ms/step - loss: 0.3428 - accuracy: 0.9028\n",
      "Epoch 18/100\n",
      "59/59 [==============================] - 0s 8ms/step - loss: 0.3385 - accuracy: 0.9039\n",
      "Epoch 19/100\n",
      "59/59 [==============================] - 0s 8ms/step - loss: 0.3344 - accuracy: 0.9050\n",
      "Epoch 20/100\n",
      "59/59 [==============================] - 0s 8ms/step - loss: 0.3304 - accuracy: 0.9061\n",
      "Epoch 21/100\n",
      "59/59 [==============================] - 0s 8ms/step - loss: 0.3267 - accuracy: 0.9070\n",
      "Epoch 22/100\n",
      "59/59 [==============================] - 0s 8ms/step - loss: 0.3232 - accuracy: 0.9083\n",
      "Epoch 23/100\n",
      "59/59 [==============================] - 0s 8ms/step - loss: 0.3199 - accuracy: 0.9087\n",
      "Epoch 24/100\n",
      "59/59 [==============================] - 0s 8ms/step - loss: 0.3167 - accuracy: 0.9101\n",
      "Epoch 25/100\n",
      "59/59 [==============================] - 0s 8ms/step - loss: 0.3136 - accuracy: 0.9105\n",
      "Epoch 26/100\n",
      "59/59 [==============================] - 0s 8ms/step - loss: 0.3106 - accuracy: 0.9116\n",
      "Epoch 27/100\n",
      "59/59 [==============================] - 0s 8ms/step - loss: 0.3078 - accuracy: 0.9125\n",
      "Epoch 28/100\n",
      "59/59 [==============================] - 0s 8ms/step - loss: 0.3050 - accuracy: 0.9133\n",
      "Epoch 29/100\n",
      "59/59 [==============================] - 0s 8ms/step - loss: 0.3023 - accuracy: 0.9140\n",
      "Epoch 30/100\n",
      "59/59 [==============================] - 0s 8ms/step - loss: 0.2998 - accuracy: 0.9147\n",
      "Epoch 31/100\n",
      "59/59 [==============================] - 0s 8ms/step - loss: 0.2972 - accuracy: 0.9156\n",
      "Epoch 32/100\n",
      "59/59 [==============================] - 0s 8ms/step - loss: 0.2948 - accuracy: 0.9164\n",
      "Epoch 33/100\n",
      "59/59 [==============================] - 0s 8ms/step - loss: 0.2924 - accuracy: 0.9169\n",
      "Epoch 34/100\n",
      "59/59 [==============================] - 0s 8ms/step - loss: 0.2902 - accuracy: 0.9175\n",
      "Epoch 35/100\n",
      "59/59 [==============================] - 0s 8ms/step - loss: 0.2880 - accuracy: 0.9179\n",
      "Epoch 36/100\n",
      "59/59 [==============================] - 0s 8ms/step - loss: 0.2858 - accuracy: 0.9184\n",
      "Epoch 37/100\n",
      "59/59 [==============================] - 0s 8ms/step - loss: 0.2837 - accuracy: 0.9194\n",
      "Epoch 38/100\n",
      "59/59 [==============================] - 0s 8ms/step - loss: 0.2816 - accuracy: 0.9198\n",
      "Epoch 39/100\n",
      "59/59 [==============================] - 0s 8ms/step - loss: 0.2795 - accuracy: 0.9204\n",
      "Epoch 40/100\n",
      "59/59 [==============================] - 0s 8ms/step - loss: 0.2776 - accuracy: 0.9209\n",
      "Epoch 41/100\n",
      "59/59 [==============================] - 0s 8ms/step - loss: 0.2756 - accuracy: 0.9218\n",
      "Epoch 42/100\n",
      "59/59 [==============================] - 0s 8ms/step - loss: 0.2738 - accuracy: 0.9221\n",
      "Epoch 43/100\n",
      "59/59 [==============================] - 0s 8ms/step - loss: 0.2720 - accuracy: 0.9225\n",
      "Epoch 44/100\n",
      "59/59 [==============================] - 0s 8ms/step - loss: 0.2701 - accuracy: 0.9233\n",
      "Epoch 45/100\n",
      "59/59 [==============================] - 0s 8ms/step - loss: 0.2684 - accuracy: 0.9240\n",
      "Epoch 46/100\n",
      "59/59 [==============================] - 1s 9ms/step - loss: 0.2666 - accuracy: 0.9244\n",
      "Epoch 47/100\n",
      "59/59 [==============================] - 0s 8ms/step - loss: 0.2649 - accuracy: 0.9249\n",
      "Epoch 48/100\n",
      "59/59 [==============================] - 0s 8ms/step - loss: 0.2632 - accuracy: 0.9254\n",
      "Epoch 49/100\n",
      "59/59 [==============================] - 0s 8ms/step - loss: 0.2615 - accuracy: 0.9262\n",
      "Epoch 50/100\n",
      "59/59 [==============================] - 0s 8ms/step - loss: 0.2599 - accuracy: 0.9262\n",
      "Epoch 51/100\n",
      "59/59 [==============================] - 0s 8ms/step - loss: 0.2583 - accuracy: 0.9269\n",
      "Epoch 52/100\n",
      "59/59 [==============================] - 0s 8ms/step - loss: 0.2567 - accuracy: 0.9274\n",
      "Epoch 53/100\n",
      "59/59 [==============================] - 0s 8ms/step - loss: 0.2551 - accuracy: 0.9278\n",
      "Epoch 54/100\n",
      "59/59 [==============================] - 0s 8ms/step - loss: 0.2536 - accuracy: 0.9283\n",
      "Epoch 55/100\n",
      "59/59 [==============================] - 0s 8ms/step - loss: 0.2521 - accuracy: 0.9284\n",
      "Epoch 56/100\n",
      "59/59 [==============================] - 0s 8ms/step - loss: 0.2506 - accuracy: 0.9290\n",
      "Epoch 57/100\n",
      "59/59 [==============================] - 0s 8ms/step - loss: 0.2492 - accuracy: 0.9295\n",
      "Epoch 58/100\n",
      "59/59 [==============================] - 0s 8ms/step - loss: 0.2477 - accuracy: 0.9300\n",
      "Epoch 59/100\n",
      "59/59 [==============================] - 0s 8ms/step - loss: 0.2463 - accuracy: 0.9302\n",
      "Epoch 60/100\n",
      "59/59 [==============================] - 0s 8ms/step - loss: 0.2448 - accuracy: 0.9308\n",
      "Epoch 61/100\n",
      "59/59 [==============================] - 0s 8ms/step - loss: 0.2435 - accuracy: 0.9312\n",
      "Epoch 62/100\n",
      "59/59 [==============================] - 0s 8ms/step - loss: 0.2421 - accuracy: 0.9314\n",
      "Epoch 63/100\n",
      "59/59 [==============================] - 0s 8ms/step - loss: 0.2408 - accuracy: 0.9316\n",
      "Epoch 64/100\n",
      "59/59 [==============================] - 0s 8ms/step - loss: 0.2394 - accuracy: 0.9323\n",
      "Epoch 65/100\n",
      "59/59 [==============================] - 0s 8ms/step - loss: 0.2382 - accuracy: 0.9325\n",
      "Epoch 66/100\n",
      "59/59 [==============================] - 0s 8ms/step - loss: 0.2368 - accuracy: 0.9332\n",
      "Epoch 67/100\n",
      "59/59 [==============================] - 0s 8ms/step - loss: 0.2356 - accuracy: 0.9333\n",
      "Epoch 68/100\n",
      "59/59 [==============================] - 0s 8ms/step - loss: 0.2343 - accuracy: 0.9337\n",
      "Epoch 69/100\n",
      "59/59 [==============================] - 0s 8ms/step - loss: 0.2330 - accuracy: 0.9343\n",
      "Epoch 70/100\n",
      "59/59 [==============================] - 0s 8ms/step - loss: 0.2318 - accuracy: 0.9346\n",
      "Epoch 71/100\n",
      "59/59 [==============================] - 0s 8ms/step - loss: 0.2306 - accuracy: 0.9347\n",
      "Epoch 72/100\n",
      "59/59 [==============================] - 0s 8ms/step - loss: 0.2294 - accuracy: 0.9352\n",
      "Epoch 73/100\n",
      "59/59 [==============================] - 0s 8ms/step - loss: 0.2282 - accuracy: 0.9355\n",
      "Epoch 74/100\n",
      "59/59 [==============================] - 0s 8ms/step - loss: 0.2270 - accuracy: 0.9357\n",
      "Epoch 75/100\n",
      "59/59 [==============================] - 0s 8ms/step - loss: 0.2259 - accuracy: 0.9365\n",
      "Epoch 76/100\n",
      "59/59 [==============================] - 0s 8ms/step - loss: 0.2247 - accuracy: 0.9365\n",
      "Epoch 77/100\n",
      "59/59 [==============================] - 0s 8ms/step - loss: 0.2236 - accuracy: 0.9369\n",
      "Epoch 78/100\n",
      "59/59 [==============================] - 0s 8ms/step - loss: 0.2225 - accuracy: 0.9372\n",
      "Epoch 79/100\n",
      "59/59 [==============================] - 0s 8ms/step - loss: 0.2214 - accuracy: 0.9374\n",
      "Epoch 80/100\n",
      "59/59 [==============================] - 0s 8ms/step - loss: 0.2203 - accuracy: 0.9377\n",
      "Epoch 81/100\n",
      "59/59 [==============================] - 0s 8ms/step - loss: 0.2192 - accuracy: 0.9382\n",
      "Epoch 82/100\n",
      "59/59 [==============================] - 0s 8ms/step - loss: 0.2181 - accuracy: 0.9381\n",
      "Epoch 83/100\n",
      "59/59 [==============================] - 0s 8ms/step - loss: 0.2170 - accuracy: 0.9386\n",
      "Epoch 84/100\n",
      "59/59 [==============================] - 0s 8ms/step - loss: 0.2160 - accuracy: 0.9389\n",
      "Epoch 85/100\n",
      "59/59 [==============================] - 0s 8ms/step - loss: 0.2149 - accuracy: 0.9393\n",
      "Epoch 86/100\n",
      "59/59 [==============================] - 0s 8ms/step - loss: 0.2140 - accuracy: 0.9395\n",
      "Epoch 87/100\n",
      "59/59 [==============================] - 0s 8ms/step - loss: 0.2129 - accuracy: 0.9397\n",
      "Epoch 88/100\n",
      "59/59 [==============================] - 0s 8ms/step - loss: 0.2119 - accuracy: 0.9400\n",
      "Epoch 89/100\n",
      "59/59 [==============================] - 0s 8ms/step - loss: 0.2109 - accuracy: 0.9405\n",
      "Epoch 90/100\n",
      "59/59 [==============================] - 0s 8ms/step - loss: 0.2099 - accuracy: 0.9407\n",
      "Epoch 91/100\n",
      "59/59 [==============================] - 0s 8ms/step - loss: 0.2089 - accuracy: 0.9409\n",
      "Epoch 92/100\n",
      "59/59 [==============================] - 0s 8ms/step - loss: 0.2080 - accuracy: 0.9412\n",
      "Epoch 93/100\n",
      "59/59 [==============================] - 0s 8ms/step - loss: 0.2070 - accuracy: 0.9413\n",
      "Epoch 94/100\n",
      "59/59 [==============================] - 0s 8ms/step - loss: 0.2060 - accuracy: 0.9416\n",
      "Epoch 95/100\n",
      "59/59 [==============================] - 0s 8ms/step - loss: 0.2051 - accuracy: 0.9418\n",
      "Epoch 96/100\n",
      "59/59 [==============================] - 0s 8ms/step - loss: 0.2042 - accuracy: 0.9422\n",
      "Epoch 97/100\n",
      "59/59 [==============================] - 0s 8ms/step - loss: 0.2032 - accuracy: 0.9424\n",
      "Epoch 98/100\n",
      "59/59 [==============================] - 0s 8ms/step - loss: 0.2023 - accuracy: 0.9426\n",
      "Epoch 99/100\n",
      "59/59 [==============================] - 0s 8ms/step - loss: 0.2014 - accuracy: 0.9429\n",
      "Epoch 100/100\n",
      "59/59 [==============================] - 0s 8ms/step - loss: 0.2006 - accuracy: 0.9433\n"
     ]
    },
    {
     "data": {
      "text/plain": [
       "<keras.callbacks.History at 0x2e9a67c10>"
      ]
     },
     "execution_count": 12,
     "metadata": {},
     "output_type": "execute_result"
    }
   ],
   "source": [
    "# Train the model\n",
    "batch_size = 1024\n",
    "model.fit(X_train, Y_train, epochs=100, batch_size=batch_size, shuffle=True)"
   ]
  },
  {
   "cell_type": "code",
   "execution_count": 10,
   "metadata": {
    "colab": {
     "base_uri": "https://localhost:8080/"
    },
    "id": "3JL8Yt7fBQOf",
    "outputId": "32831cab-c6f8-4b15-add4-2a28cc0883d2"
   },
   "outputs": [
    {
     "name": "stdout",
     "output_type": "stream",
     "text": [
      "22/59 [==========>...................] - ETA: 0s - loss: 0.5214 - accuracy: 0.8614"
     ]
    },
    {
     "name": "stderr",
     "output_type": "stream",
     "text": [
      "2022-10-19 15:19:35.907885: I tensorflow/core/grappler/optimizers/custom_graph_optimizer_registry.cc:114] Plugin optimizer for device_type GPU is enabled.\n"
     ]
    },
    {
     "name": "stdout",
     "output_type": "stream",
     "text": [
      "59/59 [==============================] - 1s 7ms/step - loss: 0.5221 - accuracy: 0.8620\n",
      "10/10 [==============================] - 0s 8ms/step - loss: 0.4973 - accuracy: 0.8690\n"
     ]
    }
   ],
   "source": [
    "train_loss, train_acc = model.evaluate(X_train, Y_train, batch_size=batch_size)\n",
    "test_loss, test_acc = model.evaluate(X_test, Y_test, batch_size=batch_size)"
   ]
  },
  {
   "cell_type": "code",
   "execution_count": 11,
   "metadata": {},
   "outputs": [
    {
     "name": "stdout",
     "output_type": "stream",
     "text": [
      "Training accuracy = 0.8620\n",
      "Test accuracy     = 0.8690\n"
     ]
    }
   ],
   "source": [
    "print(f\"Training accuracy = {train_acc:.4f}\")\n",
    "print(f\"Test accuracy     = {test_acc:.4f}\")"
   ]
  }
 ],
 "metadata": {
  "accelerator": "GPU",
  "colab": {
   "name": "css324s20_deep_mnist.ipynb",
   "provenance": []
  },
  "kernelspec": {
   "display_name": "Python 3.10.6 ('tf')",
   "language": "python",
   "name": "python3"
  },
  "language_info": {
   "codemirror_mode": {
    "name": "ipython",
    "version": 3
   },
   "file_extension": ".py",
   "mimetype": "text/x-python",
   "name": "python",
   "nbconvert_exporter": "python",
   "pygments_lexer": "ipython3",
   "version": "3.10.6"
  },
  "vscode": {
   "interpreter": {
    "hash": "52ee2977380704a66854748a73250e0671a9318bd5b3fd45a3df9f851ae61629"
   }
  }
 },
 "nbformat": 4,
 "nbformat_minor": 1
}
