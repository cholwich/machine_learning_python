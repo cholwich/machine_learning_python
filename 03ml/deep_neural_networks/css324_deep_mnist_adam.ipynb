{
 "cells": [
  {
   "cell_type": "code",
   "execution_count": 1,
   "metadata": {
    "id": "OPdpBZ0h17y4"
   },
   "outputs": [],
   "source": [
    "import tensorflow as tf\n",
    "import numpy as np\n",
    "import matplotlib.pyplot as plt\n",
    "\n",
    "np.set_printoptions(linewidth=500, precision=1, suppress=True, floatmode='fixed')"
   ]
  },
  {
   "cell_type": "code",
   "execution_count": 2,
   "metadata": {
    "colab": {
     "base_uri": "https://localhost:8080/"
    },
    "id": "ABOBGXte4ibR",
    "outputId": "47136222-55b0-4050-fe8f-a395dc778569"
   },
   "outputs": [],
   "source": [
    "# Load the dataset\n",
    "(x_train, y_train), (x_test, y_test) = tf.keras.datasets.mnist.load_data()"
   ]
  },
  {
   "cell_type": "code",
   "execution_count": 3,
   "metadata": {
    "colab": {
     "base_uri": "https://localhost:8080/"
    },
    "id": "dZKqrMYD6_kb",
    "outputId": "64847474-503a-4260-8ba8-b3c3a50e35a8"
   },
   "outputs": [
    {
     "name": "stdout",
     "output_type": "stream",
     "text": [
      "Metal device set to: Apple M1 Max\n",
      "\n",
      "systemMemory: 64.00 GB\n",
      "maxCacheSize: 24.00 GB\n",
      "\n"
     ]
    },
    {
     "name": "stderr",
     "output_type": "stream",
     "text": [
      "2022-10-16 11:18:00.585332: I tensorflow/core/common_runtime/pluggable_device/pluggable_device_factory.cc:306] Could not identify NUMA node of platform GPU ID 0, defaulting to 0. Your kernel may not have been built with NUMA support.\n",
      "2022-10-16 11:18:00.585454: I tensorflow/core/common_runtime/pluggable_device/pluggable_device_factory.cc:272] Created TensorFlow device (/job:localhost/replica:0/task:0/device:GPU:0 with 0 MB memory) -> physical PluggableDevice (device: 0, name: METAL, pci bus id: <undefined>)\n"
     ]
    }
   ],
   "source": [
    "# Preprocess\n",
    "\n",
    "# Normalize input vectors\n",
    "# [0, 255] --> [0.0, 1.0]\n",
    "X_train = x_train / 255\n",
    "X_test = x_test / 255\n",
    "\n",
    "# Encode target outputs using one-hot encoding\n",
    "Y_train = tf.one_hot(y_train, 10)\n",
    "Y_test = tf.one_hot(y_test, 10)"
   ]
  },
  {
   "cell_type": "code",
   "execution_count": 4,
   "metadata": {
    "colab": {
     "base_uri": "https://localhost:8080/"
    },
    "id": "aywc6UlV_LY5",
    "outputId": "6a1ec06c-be63-468f-ff35-17c4741d6214"
   },
   "outputs": [
    {
     "name": "stdout",
     "output_type": "stream",
     "text": [
      "Model: \"sequential\"\n",
      "_________________________________________________________________\n",
      " Layer (type)                Output Shape              Param #   \n",
      "=================================================================\n",
      " flatten (Flatten)           (None, 784)               0         \n",
      "                                                                 \n",
      " dense (Dense)               (None, 128)               100480    \n",
      "                                                                 \n",
      " dense_1 (Dense)             (None, 64)                8256      \n",
      "                                                                 \n",
      " dense_2 (Dense)             (None, 10)                650       \n",
      "                                                                 \n",
      "=================================================================\n",
      "Total params: 109,386\n",
      "Trainable params: 109,386\n",
      "Non-trainable params: 0\n",
      "_________________________________________________________________\n"
     ]
    }
   ],
   "source": [
    "# Define a model\n",
    "model = tf.keras.models.Sequential([\n",
    "    tf.keras.layers.Flatten(input_shape=(28, 28)),\n",
    "    tf.keras.layers.Dense(128, activation='relu'),\n",
    "    tf.keras.layers.Dense(64, activation='relu'),\n",
    "    tf.keras.layers.Dense(10, activation='softmax')\n",
    "])\n",
    "\n",
    "model.compile(optimizer=tf.keras.optimizers.Adam(learning_rate=3e-4),\n",
    "              loss=tf.keras.losses.CategoricalCrossentropy(),\n",
    "              metrics=['accuracy'])\n",
    "\n",
    "# Display the model\n",
    "model.summary()"
   ]
  },
  {
   "cell_type": "code",
   "execution_count": 5,
   "metadata": {
    "colab": {
     "base_uri": "https://localhost:8080/"
    },
    "id": "xVYu-xgyAcpY",
    "outputId": "0e253c8c-af18-4787-e2cf-93b9337569da"
   },
   "outputs": [
    {
     "name": "stdout",
     "output_type": "stream",
     "text": [
      "Epoch 1/50\n"
     ]
    },
    {
     "name": "stderr",
     "output_type": "stream",
     "text": [
      "2022-10-16 11:18:01.118631: W tensorflow/core/platform/profile_utils/cpu_utils.cc:128] Failed to get CPU frequency: 0 Hz\n",
      "2022-10-16 11:18:01.270905: I tensorflow/core/grappler/optimizers/custom_graph_optimizer_registry.cc:114] Plugin optimizer for device_type GPU is enabled.\n"
     ]
    },
    {
     "name": "stdout",
     "output_type": "stream",
     "text": [
      "59/59 [==============================] - 3s 10ms/step - loss: 1.4699 - accuracy: 0.6323\n",
      "Epoch 2/50\n",
      "59/59 [==============================] - 1s 8ms/step - loss: 0.4999 - accuracy: 0.8740\n",
      "Epoch 3/50\n",
      "59/59 [==============================] - 0s 8ms/step - loss: 0.3470 - accuracy: 0.9062\n",
      "Epoch 4/50\n",
      "59/59 [==============================] - 0s 8ms/step - loss: 0.2907 - accuracy: 0.9196\n",
      "Epoch 5/50\n",
      "59/59 [==============================] - 0s 8ms/step - loss: 0.2569 - accuracy: 0.9281\n",
      "Epoch 6/50\n",
      "59/59 [==============================] - 0s 8ms/step - loss: 0.2314 - accuracy: 0.9358\n",
      "Epoch 7/50\n",
      "59/59 [==============================] - 1s 9ms/step - loss: 0.2118 - accuracy: 0.9409\n",
      "Epoch 8/50\n",
      "59/59 [==============================] - 0s 8ms/step - loss: 0.1958 - accuracy: 0.9449\n",
      "Epoch 9/50\n",
      "59/59 [==============================] - 0s 8ms/step - loss: 0.1821 - accuracy: 0.9485\n",
      "Epoch 10/50\n",
      "59/59 [==============================] - 0s 8ms/step - loss: 0.1699 - accuracy: 0.9516\n",
      "Epoch 11/50\n",
      "59/59 [==============================] - 0s 8ms/step - loss: 0.1593 - accuracy: 0.9544\n",
      "Epoch 12/50\n",
      "59/59 [==============================] - 0s 8ms/step - loss: 0.1499 - accuracy: 0.9571\n",
      "Epoch 13/50\n",
      "59/59 [==============================] - 1s 9ms/step - loss: 0.1421 - accuracy: 0.9594\n",
      "Epoch 14/50\n",
      "59/59 [==============================] - 1s 9ms/step - loss: 0.1337 - accuracy: 0.9619\n",
      "Epoch 15/50\n",
      "59/59 [==============================] - 0s 8ms/step - loss: 0.1271 - accuracy: 0.9642\n",
      "Epoch 16/50\n",
      "59/59 [==============================] - 0s 8ms/step - loss: 0.1212 - accuracy: 0.9657\n",
      "Epoch 17/50\n",
      "59/59 [==============================] - 0s 8ms/step - loss: 0.1149 - accuracy: 0.9672\n",
      "Epoch 18/50\n",
      "59/59 [==============================] - 0s 8ms/step - loss: 0.1095 - accuracy: 0.9686\n",
      "Epoch 19/50\n",
      "59/59 [==============================] - 0s 8ms/step - loss: 0.1043 - accuracy: 0.9705\n",
      "Epoch 20/50\n",
      "59/59 [==============================] - 0s 8ms/step - loss: 0.0998 - accuracy: 0.9721\n",
      "Epoch 21/50\n",
      "59/59 [==============================] - 0s 8ms/step - loss: 0.0948 - accuracy: 0.9732\n",
      "Epoch 22/50\n",
      "59/59 [==============================] - 0s 8ms/step - loss: 0.0910 - accuracy: 0.9744\n",
      "Epoch 23/50\n",
      "59/59 [==============================] - 0s 8ms/step - loss: 0.0871 - accuracy: 0.9754\n",
      "Epoch 24/50\n",
      "59/59 [==============================] - 0s 8ms/step - loss: 0.0837 - accuracy: 0.9765\n",
      "Epoch 25/50\n",
      "59/59 [==============================] - 0s 8ms/step - loss: 0.0801 - accuracy: 0.9774\n",
      "Epoch 26/50\n",
      "59/59 [==============================] - 0s 8ms/step - loss: 0.0767 - accuracy: 0.9787\n",
      "Epoch 27/50\n",
      "59/59 [==============================] - 0s 8ms/step - loss: 0.0735 - accuracy: 0.9799\n",
      "Epoch 28/50\n",
      "59/59 [==============================] - 0s 8ms/step - loss: 0.0705 - accuracy: 0.9806\n",
      "Epoch 29/50\n",
      "59/59 [==============================] - 0s 8ms/step - loss: 0.0677 - accuracy: 0.9812\n",
      "Epoch 30/50\n",
      "59/59 [==============================] - 0s 8ms/step - loss: 0.0646 - accuracy: 0.9827\n",
      "Epoch 31/50\n",
      "59/59 [==============================] - 0s 8ms/step - loss: 0.0625 - accuracy: 0.9829\n",
      "Epoch 32/50\n",
      "59/59 [==============================] - 0s 8ms/step - loss: 0.0602 - accuracy: 0.9834\n",
      "Epoch 33/50\n",
      "59/59 [==============================] - 0s 8ms/step - loss: 0.0578 - accuracy: 0.9845\n",
      "Epoch 34/50\n",
      "59/59 [==============================] - 0s 8ms/step - loss: 0.0559 - accuracy: 0.9851\n",
      "Epoch 35/50\n",
      "59/59 [==============================] - 0s 8ms/step - loss: 0.0536 - accuracy: 0.9858\n",
      "Epoch 36/50\n",
      "59/59 [==============================] - 0s 8ms/step - loss: 0.0518 - accuracy: 0.9865\n",
      "Epoch 37/50\n",
      "59/59 [==============================] - 0s 8ms/step - loss: 0.0496 - accuracy: 0.9869\n",
      "Epoch 38/50\n",
      "59/59 [==============================] - 0s 8ms/step - loss: 0.0484 - accuracy: 0.9874\n",
      "Epoch 39/50\n",
      "59/59 [==============================] - 0s 8ms/step - loss: 0.0459 - accuracy: 0.9883\n",
      "Epoch 40/50\n",
      "59/59 [==============================] - 0s 8ms/step - loss: 0.0443 - accuracy: 0.9887\n",
      "Epoch 41/50\n",
      "59/59 [==============================] - 0s 8ms/step - loss: 0.0428 - accuracy: 0.9891\n",
      "Epoch 42/50\n",
      "59/59 [==============================] - 0s 8ms/step - loss: 0.0419 - accuracy: 0.9891\n",
      "Epoch 43/50\n",
      "59/59 [==============================] - 0s 8ms/step - loss: 0.0397 - accuracy: 0.9904\n",
      "Epoch 44/50\n",
      "59/59 [==============================] - 0s 8ms/step - loss: 0.0386 - accuracy: 0.9902\n",
      "Epoch 45/50\n",
      "59/59 [==============================] - 0s 8ms/step - loss: 0.0372 - accuracy: 0.9908\n",
      "Epoch 46/50\n",
      "59/59 [==============================] - 0s 8ms/step - loss: 0.0357 - accuracy: 0.9912\n",
      "Epoch 47/50\n",
      "59/59 [==============================] - 6s 95ms/step - loss: 0.0342 - accuracy: 0.9920\n",
      "Epoch 48/50\n",
      "59/59 [==============================] - 0s 8ms/step - loss: 0.0333 - accuracy: 0.9921\n",
      "Epoch 49/50\n",
      "59/59 [==============================] - 0s 8ms/step - loss: 0.0318 - accuracy: 0.9925\n",
      "Epoch 50/50\n",
      "59/59 [==============================] - 0s 8ms/step - loss: 0.0304 - accuracy: 0.9932\n"
     ]
    },
    {
     "data": {
      "text/plain": [
       "<keras.callbacks.History at 0x2904852d0>"
      ]
     },
     "execution_count": 5,
     "metadata": {},
     "output_type": "execute_result"
    }
   ],
   "source": [
    "# Train the model\n",
    "batch_size = 1024\n",
    "model.fit(X_train, Y_train, epochs=50, batch_size=batch_size, shuffle=True)"
   ]
  },
  {
   "cell_type": "code",
   "execution_count": 6,
   "metadata": {
    "colab": {
     "base_uri": "https://localhost:8080/"
    },
    "id": "3JL8Yt7fBQOf",
    "outputId": "32831cab-c6f8-4b15-add4-2a28cc0883d2"
   },
   "outputs": [
    {
     "name": "stdout",
     "output_type": "stream",
     "text": [
      "17/59 [=======>......................] - ETA: 0s - loss: 0.0279 - accuracy: 0.9944"
     ]
    },
    {
     "name": "stderr",
     "output_type": "stream",
     "text": [
      "2022-10-16 11:18:33.066329: I tensorflow/core/grappler/optimizers/custom_graph_optimizer_registry.cc:114] Plugin optimizer for device_type GPU is enabled.\n"
     ]
    },
    {
     "name": "stdout",
     "output_type": "stream",
     "text": [
      "59/59 [==============================] - 1s 7ms/step - loss: 0.0287 - accuracy: 0.9936\n",
      "10/10 [==============================] - 0s 10ms/step - loss: 0.0776 - accuracy: 0.9767\n"
     ]
    }
   ],
   "source": [
    "train_loss, train_acc = model.evaluate(X_train, Y_train, batch_size=batch_size)\n",
    "test_loss, test_acc = model.evaluate(X_test, Y_test, batch_size=batch_size)"
   ]
  },
  {
   "cell_type": "code",
   "execution_count": 7,
   "metadata": {},
   "outputs": [
    {
     "name": "stdout",
     "output_type": "stream",
     "text": [
      "Training accuracy = 0.9936\n",
      "Test accuracy     = 0.9767\n"
     ]
    }
   ],
   "source": [
    "print(f\"Training accuracy = {train_acc:.4f}\")\n",
    "print(f\"Test accuracy     = {test_acc:.4f}\")"
   ]
  }
 ],
 "metadata": {
  "accelerator": "GPU",
  "colab": {
   "name": "css324s20_deep_mnist.ipynb",
   "provenance": []
  },
  "kernelspec": {
   "display_name": "Python 3.10.6 ('tf')",
   "language": "python",
   "name": "python3"
  },
  "language_info": {
   "codemirror_mode": {
    "name": "ipython",
    "version": 3
   },
   "file_extension": ".py",
   "mimetype": "text/x-python",
   "name": "python",
   "nbconvert_exporter": "python",
   "pygments_lexer": "ipython3",
   "version": "3.10.6"
  },
  "vscode": {
   "interpreter": {
    "hash": "52ee2977380704a66854748a73250e0671a9318bd5b3fd45a3df9f851ae61629"
   }
  }
 },
 "nbformat": 4,
 "nbformat_minor": 1
}
